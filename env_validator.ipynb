{
 "metadata": {
  "name": ""
 },
 "nbformat": 3,
 "nbformat_minor": 0,
 "worksheets": [
  {
   "cells": [
    {
     "cell_type": "heading",
     "level": 1,
     "metadata": {},
     "source": [
      "VALIDATOR"
     ]
    },
    {
     "cell_type": "markdown",
     "metadata": {},
     "source": [
      "Checks to ensure that all environment variables are valid\n",
      "\n",
      "looks at \n",
      "\n",
      "* SHELL\n",
      "* HOME\n",
      "* PATH\n",
      "* EDITOR\n",
      "* MAIL\n",
      "* PAGER\n",
      "\n",
      "Source: [Wicked Cool Shell Scripts by Dave Taylor](http://intuitive.com/wicked/wicked-cool-shell-script-library2.shtml)"
     ]
    },
    {
     "cell_type": "code",
     "collapsed": false,
     "input": [
      "%%bash\n",
      "errors=0\n",
      "\n",
      "in_path()\n",
      "{\n",
      "  # given a command and the PATH, try to find the command. Returns\n",
      "  # 1 if found, 0 if not.  Note that this temporarily modifies the\n",
      "  # the IFS input field seperator, but restores it upon completion.\n",
      "  cmd=$1    path=$2    retval=0\n",
      "\n",
      "  oldIFS=$IFS; IFS=\":\"\n",
      "\n",
      "  for directory in $path \n",
      "  do\n",
      "    if [ -x $directory/$cmd ] ; then\n",
      "      retval=1      # if we're here, we found $cmd in $directory\n",
      "    fi\n",
      "  done\n",
      "  IFS=$oldIFS\n",
      "  return $retval\n",
      "}\n",
      "\n",
      "validate()\n",
      "{\n",
      "  varname=$1    varvalue=$2\n",
      "  \n",
      "  if [ ! -z $varvalue ] ; then\n",
      "    if [ \"${varvalue%${varvalue#?}}\" = \"/\" ] ; then\n",
      "      if [ ! -x $varvalue ] ; then\n",
      "        echo \"** $varname set to $varvalue, but I cannot find executable.\"\n",
      "        errors=$(( $errors + 1 ))\n",
      "      fi\n",
      "    else\n",
      "      if in_path $varvalue $PATH ; then \n",
      "        echo \"** $varname set to $varvalue, but I cannot find it in PATH.\"\n",
      "        errors=$(( $errors + 1 ))\n",
      "      fi\n",
      "    fi \n",
      "  fi\n",
      "}\n",
      "\n",
      "####### Beginning of actual shell script #######\n",
      "\n",
      "if [ ! -x ${SHELL:?\"Cannot proceed without SHELL being defined.\"} ] ; then\n",
      "  echo \"** SHELL set to $SHELL, but I cannot find that executable.\"\n",
      "  errors=$(( $errors + 1 ))\n",
      "fi\n",
      "\n",
      "if [ ! -d ${HOME:?\"You need to have your HOME set to your home directory\"} ]\n",
      "then\n",
      "  echo \"** HOME set to $HOME, but it's not a directory.\"\n",
      "  errors=$(( $errors + 1 ))\n",
      "fi\n",
      "\n",
      "# Our first interesting test: are all the paths in PATH valid?\n",
      "\n",
      "oldIFS=$IFS; IFS=\":\"     # IFS is the field separator. We'll change to ':'\n",
      "\n",
      "for directory in $PATH\n",
      "do\n",
      "  if [ ! -d $directory ] ; then\n",
      "      echo \"** PATH contains invalid directory $directory\"\n",
      "      errors=$(( $errors + 1 ))\n",
      "  fi\n",
      "done\n",
      "\n",
      "IFS=$oldIFS             # restore value for rest of script\n",
      "\n",
      "# The following can be undefined, and they can also be a progname, rather\n",
      "# than a fully qualified path.  Add additional variables as necessary for\n",
      "# your site and user community.\n",
      "\n",
      "validate \"EDITOR\" $EDITOR\n",
      "validate \"MAILER\" $MAILER\n",
      "validate \"PAGER\"  $PAGER\n",
      "\n",
      "# and, finally, a different ending depending on whether errors > 0\n",
      "\n",
      "if [ $errors -gt 0 ] ; then\n",
      "  echo \"Errors encountered. Please notify sysadmin for help.\"\n",
      "else\n",
      "  echo \"Your environment checks out fine.\"\n",
      "fi\n",
      "\n",
      "exit 0\n"
     ],
     "language": "python",
     "metadata": {},
     "outputs": [
      {
       "output_type": "stream",
       "stream": "stdout",
       "text": [
        "** PATH contains invalid directory /home/catherine/.local/bin\n",
        "Errors encountered. Please notify sysadmin for help.\n"
       ]
      }
     ],
     "prompt_number": 3
    }
   ],
   "metadata": {}
  }
 ]
}