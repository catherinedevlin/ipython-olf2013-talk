{
 "metadata": {
  "name": ""
 },
 "nbformat": 3,
 "nbformat_minor": 0,
 "worksheets": [
  {
   "cells": [
    {
     "cell_type": "heading",
     "level": 1,
     "metadata": {},
     "source": [
      "Anything you can do..."
     ]
    },
    {
     "cell_type": "markdown",
     "metadata": {},
     "source": [
      "![IPython and Bash logos](files/ipy-vs-bash.png)"
     ]
    },
    {
     "cell_type": "heading",
     "level": 1,
     "metadata": {},
     "source": [
      "Issue familiar commands"
     ]
    },
    {
     "cell_type": "code",
     "collapsed": false,
     "input": [
      "ls"
     ],
     "language": "python",
     "metadata": {},
     "outputs": [
      {
       "output_type": "stream",
       "stream": "stdout",
       "text": [
        "abstract.txt    \u001b[0m\u001b[38;5;13mipython.png\u001b[0m              moo.py              \u001b[38;5;27mreveal.js\u001b[0m/\r\n",
        "\u001b[38;5;13mbash-org.jpg\u001b[0m    ipy-vs-bash.odg          Music.ipynb         Untitled0.ipynb\r\n",
        "bio.txt         \u001b[38;5;13mipy-vs-bash.png\u001b[0m          outline.txt\r\n",
        "demos.ipynb     LICENSE                  presentation.ipynb\r\n",
        "\u001b[38;5;13mIPy_header.png\u001b[0m  make_presentation.ipynb  README.md\r\n"
       ]
      }
     ],
     "prompt_number": 1
    },
    {
     "cell_type": "code",
     "collapsed": false,
     "input": [
      "cat bio.txt"
     ],
     "language": "python",
     "metadata": {},
     "outputs": [
      {
       "output_type": "stream",
       "stream": "stdout",
       "text": [
        "A freak accident in 2000 transformed Catherine from a chemical engineering grad student to a database administrator and sometimes reluctant sysadmin, but she didn't gain superpowers until she picked up Python in 2003.  She was PyOhio's first chair and currently leads the Dayton Dynamic Languages group.  She works for Dell KACE, speaks around the region, blogs at catherinedevlin.blogspot.com, and releases code at github.com/catherinedevlin.\r\n"
       ]
      }
     ],
     "prompt_number": 2
    },
    {
     "cell_type": "heading",
     "level": 2,
     "metadata": {},
     "source": [
      "and less familiar commands"
     ]
    },
    {
     "cell_type": "code",
     "collapsed": false,
     "input": [
      "wc bio.txt"
     ],
     "language": "python",
     "metadata": {},
     "outputs": [
      {
       "ename": "SyntaxError",
       "evalue": "invalid syntax (<ipython-input-3-f0eeae2a344a>, line 1)",
       "output_type": "pyerr",
       "traceback": [
        "\u001b[1;36m  File \u001b[1;32m\"<ipython-input-3-f0eeae2a344a>\"\u001b[1;36m, line \u001b[1;32m1\u001b[0m\n\u001b[1;33m    wc bio.txt\u001b[0m\n\u001b[1;37m         ^\u001b[0m\n\u001b[1;31mSyntaxError\u001b[0m\u001b[1;31m:\u001b[0m invalid syntax\n"
       ]
      }
     ],
     "prompt_number": 3
    },
    {
     "cell_type": "heading",
     "level": 2,
     "metadata": {},
     "source": [
      "Populate your aliases"
     ]
    },
    {
     "cell_type": "code",
     "collapsed": false,
     "input": [
      "%rehashx"
     ],
     "language": "python",
     "metadata": {},
     "outputs": [],
     "prompt_number": 4
    },
    {
     "cell_type": "code",
     "collapsed": false,
     "input": [
      "wc bio.txt"
     ],
     "language": "python",
     "metadata": {},
     "outputs": [
      {
       "output_type": "stream",
       "stream": "stdout",
       "text": [
        "  1  63 444 bio.txt\r\n"
       ]
      }
     ],
     "prompt_number": 5
    },
    {
     "cell_type": "heading",
     "level": 2,
     "metadata": {},
     "source": [
      "IPython aliases"
     ]
    },
    {
     "cell_type": "code",
     "collapsed": false,
     "input": [
      "%alias getpage wget -rkp -np %l"
     ],
     "language": "python",
     "metadata": {},
     "outputs": [],
     "prompt_number": 1
    },
    {
     "cell_type": "code",
     "collapsed": false,
     "input": [
      "getpage http://isitpyconyet.com/"
     ],
     "language": "python",
     "metadata": {},
     "outputs": [
      {
       "output_type": "stream",
       "stream": "stdout",
       "text": [
        "--2013-09-12 13:55:14--  http://isitpyconyet.com/\r\n",
        "Resolving isitpyconyet.com (isitpyconyet.com)... "
       ]
      },
      {
       "output_type": "stream",
       "stream": "stdout",
       "text": [
        "205.196.219.49\r\n",
        "Connecting to isitpyconyet.com (isitpyconyet.com)|205.196.219.49|:80... "
       ]
      },
      {
       "output_type": "stream",
       "stream": "stdout",
       "text": [
        "connected.\r\n",
        "HTTP request sent, awaiting response... "
       ]
      },
      {
       "output_type": "stream",
       "stream": "stdout",
       "text": [
        "200 OK\r\n",
        "Length: 875 [text/html]\r\n",
        "Saving to: \u2018isitpyconyet.com/index.html\u2019\r\n",
        "\r\n",
        "\r",
        " 0% [                                       ] 0           --.-K/s              \r",
        "100%[======================================>] 875         --.-K/s   in 0s      \r\n",
        "\r\n",
        "2013-09-12 13:55:15 (127 MB/s) - \u2018isitpyconyet.com/index.html\u2019 saved [875/875]\r\n",
        "\r\n",
        "Loading robots.txt; please ignore errors.\r\n",
        "--2013-09-12 13:55:15--  http://isitpyconyet.com/robots.txt\r\n",
        "Reusing existing connection to isitpyconyet.com:80.\r\n",
        "HTTP request sent, awaiting response... "
       ]
      },
      {
       "output_type": "stream",
       "stream": "stdout",
       "text": [
        "404 Not Found\r\n",
        "2013-09-12 13:55:15 ERROR 404: Not Found.\r\n",
        "\r\n",
        "--2013-09-12 13:55:15--  http://isitpyconyet.com/favicon.ico\r\n",
        "Reusing existing connection to isitpyconyet.com:80.\r\n",
        "HTTP request sent, awaiting response... "
       ]
      },
      {
       "output_type": "stream",
       "stream": "stdout",
       "text": [
        "200 OK\r\n",
        "Length: 3774 (3.7K) [image/x-icon]\r\n",
        "Saving to: \u2018isitpyconyet.com/favicon.ico\u2019\r\n",
        "\r\n",
        "\r",
        " 0% [                                       ] 0           --.-K/s              \r",
        "100%[======================================>] 3,774       --.-K/s   in 0.007s  \r\n",
        "\r\n",
        "2013-09-12 13:55:15 (533 KB/s) - \u2018isitpyconyet.com/favicon.ico\u2019 saved [3774/3774]\r\n",
        "\r\n",
        "--2013-09-12 13:55:15--  http://isitpyconyet.com/pycon.js\r\n",
        "Reusing existing connection to isitpyconyet.com:80.\r\n",
        "HTTP request sent, awaiting response... "
       ]
      },
      {
       "output_type": "stream",
       "stream": "stdout",
       "text": [
        "200 OK\r\n",
        "Length: 924 [application/javascript]\r\n",
        "Saving to: \u2018isitpyconyet.com/pycon.js\u2019\r\n",
        "\r\n",
        "\r",
        " 0% [                                       ] 0           --.-K/s              \r",
        "100%[======================================>] 924         --.-K/s   in 0s      \r\n",
        "\r\n",
        "2013-09-12 13:55:16 (161 MB/s) - \u2018isitpyconyet.com/pycon.js\u2019 saved [924/924]\r\n",
        "\r\n",
        "--2013-09-12 13:55:16--  http://isitpyconyet.com/pycon.css\r\n",
        "Reusing existing connection to isitpyconyet.com:80.\r\n",
        "HTTP request sent, awaiting response... "
       ]
      },
      {
       "output_type": "stream",
       "stream": "stdout",
       "text": [
        "200 OK\r\n",
        "Length: 109 [text/css]\r\n",
        "Saving to: \u2018isitpyconyet.com/pycon.css\u2019\r\n",
        "\r\n",
        "\r",
        " 0% [                                       ] 0           --.-K/s              \r",
        "100%[======================================>] 109         --.-K/s   in 0s      \r\n",
        "\r\n",
        "2013-09-12 13:55:16 (9.56 MB/s) - \u2018isitpyconyet.com/pycon.css\u2019 saved [109/109]\r\n",
        "\r\n",
        "FINISHED --2013-09-12 13:55:16--\r\n",
        "Total wall clock time: 1.6s\r\n",
        "Downloaded: 4 files, 5.5K in 0.007s (800 KB/s)\r\n",
        "Converting isitpyconyet.com/index.html... 3-0\r\n",
        "Converting isitpyconyet.com/pycon.css... nothing to do.\r\n",
        "Converted 2 files in 0 seconds.\r\n"
       ]
      }
     ],
     "prompt_number": 3
    },
    {
     "cell_type": "markdown",
     "metadata": {},
     "source": [
      "[Is it PyCon yet?](files/isitpyconyet.com/index.html)"
     ]
    },
    {
     "cell_type": "heading",
     "level": 1,
     "metadata": {},
     "source": [
      "Use tab completion"
     ]
    },
    {
     "cell_type": "code",
     "collapsed": false,
     "input": [
      "fre"
     ],
     "language": "python",
     "metadata": {},
     "outputs": [
      {
       "output_type": "stream",
       "stream": "stdout",
       "text": [
        "             total       used       free     shared    buffers     cached\r\n",
        "Mem:       3929240    2648872    1280368          0      28528     864984\r\n",
        "-/+ buffers/cache:    1755360    2173880\r\n",
        "Swap:      3948540     201180    3747360\r\n"
       ]
      }
     ],
     "prompt_number": 7
    },
    {
     "cell_type": "code",
     "collapsed": false,
     "input": [
      "cat ab"
     ],
     "language": "python",
     "metadata": {},
     "outputs": [
      {
       "output_type": "stream",
       "stream": "stdout",
       "text": [
        "abstract.txt    \u001b[0m\u001b[38;5;13mipython.png\u001b[0m              moo.py              \u001b[38;5;27mreveal.js\u001b[0m/\r\n",
        "\u001b[38;5;13mbash-org.jpg\u001b[0m    ipy-vs-bash.odg          Music.ipynb         Untitled0.ipynb\r\n",
        "bio.txt         \u001b[38;5;13mipy-vs-bash.png\u001b[0m          outline.txt\r\n",
        "demos.ipynb     LICENSE                  presentation.ipynb\r\n",
        "\u001b[38;5;13mIPy_header.png\u001b[0m  make_presentation.ipynb  README.md\r\n"
       ]
      }
     ],
     "prompt_number": 8
    },
    {
     "cell_type": "code",
     "collapsed": false,
     "input": [
      "%magic"
     ],
     "language": "python",
     "metadata": {},
     "outputs": []
    },
    {
     "cell_type": "heading",
     "level": 1,
     "metadata": {},
     "source": [
      "Use scripts"
     ]
    },
    {
     "cell_type": "code",
     "collapsed": false,
     "input": [
      "!head 047-validator.sh"
     ],
     "language": "python",
     "metadata": {},
     "outputs": [
      {
       "output_type": "stream",
       "stream": "stdout",
       "text": [
        "#!/bin/sh\r\n",
        "# VALIDATOR - Checks to ensure that all environment variables are valid\r\n",
        "#   looks at SHELL, HOME, PATH, EDITOR, MAIL, and PAGER\r\n",
        "#\r\n",
        "# from Wicked Cool Shell Scripts by Dave Taylor\r\n",
        "# http://intuitive.com/wicked/wicked-cool-shell-script-library2.shtml\r\n",
        "\r\n",
        "errors=0\r\n",
        "\r\n",
        "in_path()\r\n"
       ]
      }
     ],
     "prompt_number": 1
    },
    {
     "cell_type": "code",
     "collapsed": false,
     "input": [
      "!./047-validator.sh\n"
     ],
     "language": "python",
     "metadata": {},
     "outputs": [
      {
       "output_type": "stream",
       "stream": "stdout",
       "text": [
        "** PATH contains invalid directory /home/catherine/.local/bin\r\n",
        "Errors encountered. Please notify sysadmin for help.\r\n"
       ]
      }
     ],
     "prompt_number": 2
    },
    {
     "cell_type": "heading",
     "level": 2,
     "metadata": {},
     "source": [
      "Better yet, load them into your Notebook"
     ]
    },
    {
     "cell_type": "code",
     "collapsed": false,
     "input": [
      "%load 047-validator.sh"
     ],
     "language": "python",
     "metadata": {},
     "outputs": [],
     "prompt_number": 9
    },
    {
     "cell_type": "code",
     "collapsed": false,
     "input": [
      "%%ruby\n",
      "say = \"if that's your thing\"\n",
      "puts say.upcase"
     ],
     "language": "python",
     "metadata": {},
     "outputs": [
      {
       "output_type": "stream",
       "stream": "stdout",
       "text": [
        "IF THAT'S YOUR THING\n"
       ]
      }
     ],
     "prompt_number": 6
    },
    {
     "cell_type": "code",
     "collapsed": false,
     "input": [
      "%%script perl\n",
      "open (ABSTRACT, 'abstract.txt');\n",
      "  while (<ABSTRACT>) {\n",
      "    $_ =~ s/([A-Z][a-z]*)/reverse($1)/ge; \n",
      "    print $_;\n",
      " }"
     ],
     "language": "python",
     "metadata": {},
     "outputs": [
      {
       "output_type": "stream",
       "stream": "stdout",
       "text": [
        "kaerB out of your (bash) shell!  InohtyP and the InohtyP koobetoN have swept over the nohtyP programming community, but they're not just for nohtyP programmers - they make for superpowered shell replacements even with little to no nohtyP knowledge.  yehT'll also let you document your work and collaborate with others like never before.  dniF out how these beautiful tools can improve your daily xuniL work!\n",
        "\n",
        "\n"
       ]
      }
     ],
     "prompt_number": 11
    },
    {
     "cell_type": "heading",
     "level": 1,
     "metadata": {},
     "source": [
      "... I can do better!"
     ]
    },
    {
     "cell_type": "markdown",
     "metadata": {},
     "source": [
      "![IPython and Bash logos](files/ipy-vs-bash.png)"
     ]
    },
    {
     "cell_type": "heading",
     "level": 2,
     "metadata": {},
     "source": [
      "Load from URL"
     ]
    },
    {
     "cell_type": "markdown",
     "metadata": {},
     "source": [
      "[script provided on web](http://catherinedevlin.pythoneers.com/047-validator.sh)"
     ]
    },
    {
     "cell_type": "code",
     "collapsed": false,
     "input": [
      "%load http://catherinedevlin.pythoneers.com/047-validator.sh"
     ],
     "language": "python",
     "metadata": {},
     "outputs": [],
     "prompt_number": 2
    },
    {
     "cell_type": "code",
     "collapsed": false,
     "input": [
      "#!/bin/sh\n",
      "# VALIDATOR - Checks to ensure that all environment variables are valid\n",
      "#   looks at SHELL, HOME, PATH, EDITOR, MAIL, and PAGER\n",
      "#\n",
      "# from Wicked Cool Shell Scripts by Dave Taylor\n",
      "# http://intuitive.com/wicked/wicked-cool-shell-script-library2.shtml\n",
      "\n",
      "errors=0\n",
      "\n",
      "in_path()\n",
      "{\n",
      "  # given a command and the PATH, try to find the command. Returns\n",
      "  # 1 if found, 0 if not.  Note that this temporarily modifies the\n",
      "  # the IFS input field seperator, but restores it upon completion.\n",
      "  cmd=$1    path=$2    retval=0\n",
      "\n",
      "  oldIFS=$IFS; IFS=\":\"\n",
      "\n",
      "  for directory in $path \n",
      "  do\n",
      "    if [ -x $directory/$cmd ] ; then\n",
      "      retval=1      # if we're here, we found $cmd in $directory\n",
      "    fi\n",
      "  done\n",
      "  IFS=$oldIFS\n",
      "  return $retval\n",
      "}\n",
      "\n",
      "validate()\n",
      "{\n",
      "  varname=$1    varvalue=$2\n",
      "  \n",
      "  if [ ! -z $varvalue ] ; then\n",
      "    if [ \"${varvalue%${varvalue#?}}\" = \"/\" ] ; then\n",
      "      if [ ! -x $varvalue ] ; then\n",
      "        echo \"** $varname set to $varvalue, but I cannot find executable.\"\n",
      "        errors=$(( $errors + 1 ))\n",
      "      fi\n",
      "    else\n",
      "      if in_path $varvalue $PATH ; then \n",
      "        echo \"** $varname set to $varvalue, but I cannot find it in PATH.\"\n",
      "        errors=$(( $errors + 1 ))\n",
      "      fi\n",
      "    fi \n",
      "  fi\n",
      "}\n",
      "\n",
      "####### Beginning of actual shell script #######\n",
      "\n",
      "if [ ! -x ${SHELL:?\"Cannot proceed without SHELL being defined.\"} ] ; then\n",
      "  echo \"** SHELL set to $SHELL, but I cannot find that executable.\"\n",
      "  errors=$(( $errors + 1 ))\n",
      "fi\n",
      "\n",
      "if [ ! -d ${HOME:?\"You need to have your HOME set to your home directory\"} ]\n",
      "then\n",
      "  echo \"** HOME set to $HOME, but it's not a directory.\"\n",
      "  errors=$(( $errors + 1 ))\n",
      "fi\n",
      "\n",
      "# Our first interesting test: are all the paths in PATH valid?\n",
      "\n",
      "oldIFS=$IFS; IFS=\":\"     # IFS is the field separator. We'll change to ':'\n",
      "\n",
      "for directory in $PATH\n",
      "do\n",
      "  if [ ! -d $directory ] ; then\n",
      "      echo \"** PATH contains invalid directory $directory\"\n",
      "      errors=$(( $errors + 1 ))\n",
      "  fi\n",
      "done\n",
      "\n",
      "IFS=$oldIFS             # restore value for rest of script\n",
      "\n",
      "# The following can be undefined, and they can also be a progname, rather\n",
      "# than a fully qualified path.  Add additional variables as necessary for\n",
      "# your site and user community.\n",
      "\n",
      "validate \"EDITOR\" $EDITOR\n",
      "validate \"MAILER\" $MAILER\n",
      "validate \"PAGER\"  $PAGER\n",
      "\n",
      "# and, finally, a different ending depending on whether errors > 0\n",
      "\n",
      "if [ $errors -gt 0 ] ; then\n",
      "  echo \"Errors encountered. Please notify sysadmin for help.\"\n",
      "else\n",
      "  echo \"Your environment checks out fine.\"\n",
      "fi\n",
      "\n",
      "exit 0\n"
     ],
     "language": "python",
     "metadata": {},
     "outputs": []
    },
    {
     "cell_type": "heading",
     "level": 2,
     "metadata": {},
     "source": [
      "Assign shell results with `=!`"
     ]
    },
    {
     "cell_type": "code",
     "collapsed": false,
     "input": [
      "ls *.txt"
     ],
     "language": "python",
     "metadata": {},
     "outputs": [
      {
       "output_type": "stream",
       "stream": "stdout",
       "text": [
        "abstract.txt  bio.txt  outline.txt\r\n"
       ]
      }
     ],
     "prompt_number": 37
    },
    {
     "cell_type": "code",
     "collapsed": false,
     "input": [
      "textfilenames =! ls *.txt\n",
      "textfilenames"
     ],
     "language": "python",
     "metadata": {},
     "outputs": [
      {
       "metadata": {},
       "output_type": "pyout",
       "prompt_number": 38,
       "text": [
        "['abstract.txt', 'bio.txt', 'outline.txt']"
       ]
      }
     ],
     "prompt_number": 38
    },
    {
     "cell_type": "heading",
     "level": 2,
     "metadata": {},
     "source": [
      "Expand Python variables in shell commands"
     ]
    },
    {
     "cell_type": "code",
     "collapsed": false,
     "input": [
      "for filename in textfilenames:\n",
      "    !wc -w {filename}"
     ],
     "language": "python",
     "metadata": {},
     "outputs": [
      {
       "output_type": "stream",
       "stream": "stdout",
       "text": [
        "65 abstract.txt\r\n"
       ]
      },
      {
       "output_type": "stream",
       "stream": "stdout",
       "text": [
        "63 bio.txt\r\n"
       ]
      },
      {
       "output_type": "stream",
       "stream": "stdout",
       "text": [
        "84 outline.txt\r\n"
       ]
      }
     ],
     "prompt_number": 41
    },
    {
     "cell_type": "heading",
     "level": 2,
     "metadata": {},
     "source": [
      "Manipulate results in Python"
     ]
    },
    {
     "cell_type": "code",
     "collapsed": false,
     "input": [
      "output =! wc -w abstract.txt\n",
      "output"
     ],
     "language": "python",
     "metadata": {},
     "outputs": [
      {
       "metadata": {},
       "output_type": "pyout",
       "prompt_number": 66,
       "text": [
        "['65 abstract.txt']"
       ]
      }
     ],
     "prompt_number": 66
    },
    {
     "cell_type": "code",
     "collapsed": false,
     "input": [
      "int(output[0].split()[0])"
     ],
     "language": "python",
     "metadata": {},
     "outputs": [
      {
       "metadata": {},
       "output_type": "pyout",
       "prompt_number": 67,
       "text": [
        "65"
       ]
      }
     ],
     "prompt_number": 67
    },
    {
     "cell_type": "code",
     "collapsed": false,
     "input": [
      "text = !cat abstract.txt"
     ],
     "language": "python",
     "metadata": {},
     "outputs": [],
     "prompt_number": 104
    },
    {
     "cell_type": "code",
     "collapsed": false,
     "input": [
      "lines"
     ],
     "language": "python",
     "metadata": {},
     "outputs": [
      {
       "metadata": {},
       "output_type": "pyout",
       "prompt_number": 105,
       "text": [
        "[\"Break out of your (bash) shell!  IPython and the IPython Notebook have swept over the Python programming community, but they're not just for Python programmers - they make for superpowered shell replacements even with little to no Python knowledge.  They'll also let you document your work and collaborate with others like never before.  Find out how these beautiful tools can improve your daily Linux work!\",\n",
        " '',\n",
        " '']"
       ]
      }
     ],
     "prompt_number": 105
    },
    {
     "cell_type": "code",
     "collapsed": false,
     "input": [
      "lines = !cat abstract.txt\n",
      "for line in lines:\n",
      "    for word in line.split():\n",
      "        if len(word) > 10:\n",
      "            print word"
     ],
     "language": "python",
     "metadata": {},
     "outputs": [
      {
       "output_type": "stream",
       "stream": "stdout",
       "text": [
        "programming\n",
        "programmers\n",
        "superpowered\n",
        "replacements\n",
        "collaborate\n"
       ]
      }
     ],
     "prompt_number": 108
    },
    {
     "cell_type": "heading",
     "level": 2,
     "metadata": {},
     "source": [
      "Hate typing?  Automatic parens and quotes available"
     ]
    },
    {
     "cell_type": "heading",
     "level": 3,
     "metadata": {},
     "source": [
      "automatic parens: `\\`"
     ]
    },
    {
     "cell_type": "code",
     "collapsed": false,
     "input": [
      "round(82.621, 1)"
     ],
     "language": "python",
     "metadata": {},
     "outputs": [
      {
       "metadata": {},
       "output_type": "pyout",
       "prompt_number": 121,
       "text": [
        "82.6"
       ]
      }
     ],
     "prompt_number": 121
    },
    {
     "cell_type": "code",
     "collapsed": false,
     "input": [
      "/round 82.621 1"
     ],
     "language": "python",
     "metadata": {},
     "outputs": [
      {
       "metadata": {},
       "output_type": "pyout",
       "prompt_number": 123,
       "text": [
        "82.6"
       ]
      }
     ],
     "prompt_number": 123
    },
    {
     "cell_type": "heading",
     "level": 3,
     "metadata": {},
     "source": [
      "one automatically quoted string: `;`"
     ]
    },
    {
     "cell_type": "code",
     "collapsed": false,
     "input": [
      "len(\"I wonder how long this sentence is.\")"
     ],
     "language": "python",
     "metadata": {},
     "outputs": [
      {
       "metadata": {},
       "output_type": "pyout",
       "prompt_number": 128,
       "text": [
        "35"
       ]
      }
     ],
     "prompt_number": 128
    },
    {
     "cell_type": "code",
     "collapsed": false,
     "input": [
      ";len I wonder how long this sentence is."
     ],
     "language": "python",
     "metadata": {},
     "outputs": [
      {
       "metadata": {},
       "output_type": "pyout",
       "prompt_number": 127,
       "text": [
        "35"
       ]
      }
     ],
     "prompt_number": 127
    },
    {
     "cell_type": "heading",
     "level": 3,
     "metadata": {},
     "source": [
      "comma-separated list of quoted strings: `,`"
     ]
    },
    {
     "cell_type": "code",
     "collapsed": false,
     "input": [
      "max(\"go\", \"to\", \"the\", \"head\", \"of\", \"the\", \"class\")"
     ],
     "language": "python",
     "metadata": {},
     "outputs": [
      {
       "metadata": {},
       "output_type": "pyout",
       "prompt_number": 129,
       "text": [
        "'to'"
       ]
      }
     ],
     "prompt_number": 129
    },
    {
     "cell_type": "code",
     "collapsed": false,
     "input": [
      ",max go to the head of the class"
     ],
     "language": "python",
     "metadata": {},
     "outputs": [
      {
       "metadata": {},
       "output_type": "pyout",
       "prompt_number": 130,
       "text": [
        "'to'"
       ]
      }
     ],
     "prompt_number": 130
    },
    {
     "cell_type": "heading",
     "level": 2,
     "metadata": {},
     "source": [
      "or use special `SList` methods"
     ]
    },
    {
     "cell_type": "code",
     "collapsed": false,
     "input": [
      "output =! wc -w *.txt\n",
      "output"
     ],
     "language": "python",
     "metadata": {},
     "outputs": [
      {
       "metadata": {},
       "output_type": "pyout",
       "prompt_number": 69,
       "text": [
        "['  65 abstract.txt', '  63 bio.txt', '  84 outline.txt', ' 212 total']"
       ]
      }
     ],
     "prompt_number": 69
    },
    {
     "cell_type": "code",
     "collapsed": false,
     "input": [
      "type(output)"
     ],
     "language": "python",
     "metadata": {},
     "outputs": [
      {
       "metadata": {},
       "output_type": "pyout",
       "prompt_number": 79,
       "text": [
        "IPython.utils.text.SList"
       ]
      }
     ],
     "prompt_number": 79
    },
    {
     "cell_type": "code",
     "collapsed": false,
     "input": [
      "output.s"
     ],
     "language": "python",
     "metadata": {},
     "outputs": [
      {
       "metadata": {},
       "output_type": "pyout",
       "prompt_number": 70,
       "text": [
        "'  65 abstract.txt   63 bio.txt   84 outline.txt  212 total'"
       ]
      }
     ],
     "prompt_number": 70
    },
    {
     "cell_type": "code",
     "collapsed": false,
     "input": [
      "print(output.s)"
     ],
     "language": "python",
     "metadata": {},
     "outputs": [
      {
       "output_type": "stream",
       "stream": "stdout",
       "text": [
        "  65 abstract.txt   63 bio.txt   84 outline.txt  212 total\n"
       ]
      }
     ],
     "prompt_number": 71
    },
    {
     "cell_type": "code",
     "collapsed": false,
     "input": [
      "int(output.s.split()[0])"
     ],
     "language": "python",
     "metadata": {},
     "outputs": [
      {
       "metadata": {},
       "output_type": "pyout",
       "prompt_number": 72,
       "text": [
        "65"
       ]
      }
     ],
     "prompt_number": 72
    },
    {
     "cell_type": "code",
     "collapsed": false,
     "input": [
      "output.fields()"
     ],
     "language": "python",
     "metadata": {},
     "outputs": [
      {
       "metadata": {},
       "output_type": "pyout",
       "prompt_number": 76,
       "text": [
        "[['65', 'abstract.txt'],\n",
        " ['63', 'bio.txt'],\n",
        " ['84', 'outline.txt'],\n",
        " ['212', 'total']]"
       ]
      }
     ],
     "prompt_number": 76
    },
    {
     "cell_type": "code",
     "collapsed": false,
     "input": [
      "int(output.fields()[0][0])"
     ],
     "language": "python",
     "metadata": {},
     "outputs": [
      {
       "metadata": {},
       "output_type": "pyout",
       "prompt_number": 78,
       "text": [
        "65"
       ]
      }
     ],
     "prompt_number": 78
    },
    {
     "cell_type": "heading",
     "level": 2,
     "metadata": {},
     "source": [
      "Even works in functions"
     ]
    },
    {
     "cell_type": "code",
     "collapsed": false,
     "input": [
      "def wordcount(filename):\n",
      "    output =! wc -w {filename}\n",
      "    return int(output[0].split()[0])\n",
      "\n",
      "wordcount('bio.txt')"
     ],
     "language": "python",
     "metadata": {},
     "outputs": [
      {
       "metadata": {},
       "output_type": "pyout",
       "prompt_number": 59,
       "text": [
        "63"
       ]
      }
     ],
     "prompt_number": 59
    },
    {
     "cell_type": "code",
     "collapsed": false,
     "input": [
      "textfilenames = !ls *.txt\n",
      "for filename in textfilenames:\n",
      "    words = wordcount(filename)\n",
      "    !echo {filename} has {words} words."
     ],
     "language": "python",
     "metadata": {},
     "outputs": [
      {
       "output_type": "stream",
       "stream": "stdout",
       "text": [
        "abstract.txt has 65 words.\r\n"
       ]
      },
      {
       "output_type": "stream",
       "stream": "stdout",
       "text": [
        "bio.txt has 63 words.\r\n"
       ]
      },
      {
       "output_type": "stream",
       "stream": "stdout",
       "text": [
        "outline.txt has 84 words.\r\n"
       ]
      }
     ],
     "prompt_number": 62
    },
    {
     "cell_type": "heading",
     "level": 1,
     "metadata": {},
     "source": [
      "HELP!"
     ]
    },
    {
     "cell_type": "code",
     "collapsed": false,
     "input": [
      "%quickref"
     ],
     "language": "python",
     "metadata": {},
     "outputs": [],
     "prompt_number": 80
    },
    {
     "cell_type": "code",
     "collapsed": false,
     "input": [
      "%lsmagic"
     ],
     "language": "python",
     "metadata": {},
     "outputs": [
      {
       "json": [
        "{\"cell\": {\"time\": \"ExecutionMagics\", \"debug\": \"ExecutionMagics\", \"ruby\": \"Other\", \"javascript\": \"DisplayMagics\", \"bash\": \"Other\", \"sx\": \"OSMagics\", \"prun\": \"ExecutionMagics\", \"system\": \"OSMagics\", \"writefile\": \"OSMagics\", \"sh\": \"Other\", \"file\": \"Other\", \"pypy\": \"Other\", \"HTML\": \"Other\", \"latex\": \"DisplayMagics\", \"html\": \"DisplayMagics\", \"script\": \"ScriptMagics\", \"timeit\": \"ExecutionMagics\", \"capture\": \"ExecutionMagics\", \"python3\": \"Other\", \"perl\": \"Other\", \"svg\": \"DisplayMagics\", \"python\": \"Other\", \"!\": \"OSMagics\", \"SVG\": \"Other\"}, \"line\": {\"pylab\": \"PylabMagics\", \"reset\": \"NamespaceMagics\", \"debug\": \"ExecutionMagics\", \"man\": \"KernelMagics\", \"load_ext\": \"ExtensionMagics\", \"reset_selective\": \"NamespaceMagics\", \"pfile\": \"NamespaceMagics\", \"logstate\": \"LoggingMagics\", \"prun\": \"ExecutionMagics\", \"tb\": \"ExecutionMagics\", \"loadpy\": \"CodeMagics\", \"colors\": \"BasicMagics\", \"pycat\": \"OSMagics\", \"less\": \"KernelMagics\", \"xmode\": \"BasicMagics\", \"autosave\": \"KernelMagics\", \"clear\": \"KernelMagics\", \"quickref\": \"BasicMagics\", \"more\": \"KernelMagics\", \"unalias\": \"OSMagics\", \"timeit\": \"ExecutionMagics\", \"lsmagic\": \"BasicMagics\", \"precision\": \"BasicMagics\", \"matplotlib\": \"PylabMagics\", \"who\": \"NamespaceMagics\", \"doctest_mode\": \"KernelMagics\", \"logon\": \"LoggingMagics\", \"pinfo2\": \"NamespaceMagics\", \"history\": \"HistoryMagics\", \"connect_info\": \"KernelMagics\", \"psource\": \"NamespaceMagics\", \"alias_magic\": \"BasicMagics\", \"page\": \"BasicMagics\", \"save\": \"CodeMagics\", \"env\": \"OSMagics\", \"unload_ext\": \"ExtensionMagics\", \"store\": \"StoreMagics\", \"recall\": \"HistoryMagics\", \"load\": \"CodeMagics\", \"logoff\": \"LoggingMagics\", \"cd\": \"OSMagics\", \"pushd\": \"OSMagics\", \"rehashx\": \"OSMagics\", \"sx\": \"OSMagics\", \"install_default_config\": \"DeprecatedMagics\", \"pinfo\": \"NamespaceMagics\", \"pdoc\": \"NamespaceMagics\", \"automagic\": \"AutoMagics\", \"rep\": \"Other\", \"profile\": \"BasicMagics\", \"rerun\": \"HistoryMagics\", \"install_ext\": \"ExtensionMagics\", \"xdel\": \"NamespaceMagics\", \"system\": \"OSMagics\", \"alias\": \"OSMagics\", \"time\": \"ExecutionMagics\", \"pdb\": \"ExecutionMagics\", \"whos\": \"NamespaceMagics\", \"who_ls\": \"NamespaceMagics\", \"autocall\": \"AutoMagics\", \"sc\": \"OSMagics\", \"pdef\": \"NamespaceMagics\", \"pwd\": \"OSMagics\", \"pprint\": \"BasicMagics\", \"install_profiles\": \"DeprecatedMagics\", \"config\": \"ConfigMagics\", \"logstop\": \"LoggingMagics\", \"reload_ext\": \"ExtensionMagics\", \"psearch\": \"NamespaceMagics\", \"ed\": \"Other\", \"notebook\": \"BasicMagics\", \"run\": \"ExecutionMagics\", \"macro\": \"ExecutionMagics\", \"pastebin\": \"CodeMagics\", \"magic\": \"BasicMagics\", \"qtconsole\": \"KernelMagics\", \"gui\": \"BasicMagics\", \"dhist\": \"OSMagics\", \"hist\": \"Other\", \"popd\": \"OSMagics\", \"logstart\": \"LoggingMagics\", \"killbgscripts\": \"ScriptMagics\", \"dirs\": \"OSMagics\", \"edit\": \"KernelMagics\", \"bookmark\": \"OSMagics\"}}"
       ],
       "metadata": {},
       "output_type": "pyout",
       "prompt_number": 81,
       "text": [
        "Available line magics:\n",
        "%alias  %alias_magic  %autocall  %automagic  %autosave  %bookmark  %cd  %clear  %colors  %config  %connect_info  %debug  %dhist  %dirs  %doctest_mode  %ed  %edit  %env  %gui  %hist  %history  %install_default_config  %install_ext  %install_profiles  %killbgscripts  %less  %load  %load_ext  %loadpy  %logoff  %logon  %logstart  %logstate  %logstop  %lsmagic  %macro  %magic  %man  %matplotlib  %more  %notebook  %page  %pastebin  %pdb  %pdef  %pdoc  %pfile  %pinfo  %pinfo2  %popd  %pprint  %precision  %profile  %prun  %psearch  %psource  %pushd  %pwd  %pycat  %pylab  %qtconsole  %quickref  %recall  %rehashx  %reload_ext  %rep  %rerun  %reset  %reset_selective  %run  %save  %sc  %store  %sx  %system  %tb  %time  %timeit  %unalias  %unload_ext  %who  %who_ls  %whos  %xdel  %xmode\n",
        "\n",
        "Available cell magics:\n",
        "%%!  %%HTML  %%SVG  %%bash  %%capture  %%debug  %%file  %%html  %%javascript  %%latex  %%perl  %%prun  %%pypy  %%python  %%python3  %%ruby  %%script  %%sh  %%svg  %%sx  %%system  %%time  %%timeit  %%writefile\n",
        "\n",
        "Automagic is ON, % prefix IS NOT needed for line magics."
       ]
      }
     ],
     "prompt_number": 81
    },
    {
     "cell_type": "code",
     "collapsed": false,
     "input": [
      "%load?"
     ],
     "language": "python",
     "metadata": {},
     "outputs": [],
     "prompt_number": 83
    },
    {
     "cell_type": "code",
     "collapsed": false,
     "input": [
      "%load??"
     ],
     "language": "python",
     "metadata": {},
     "outputs": [],
     "prompt_number": 84
    },
    {
     "cell_type": "markdown",
     "metadata": {},
     "source": [
      "Life's big questions\n",
      "====================\n",
      "\n",
      "* Where am I?\n",
      "* What have I done?\n",
      "* What does it all mean?\n",
      "* Look!  Look what I did!"
     ]
    },
    {
     "cell_type": "heading",
     "level": 1,
     "metadata": {},
     "source": [
      "Where am I?"
     ]
    },
    {
     "cell_type": "code",
     "collapsed": false,
     "input": [
      "pwd"
     ],
     "language": "python",
     "metadata": {},
     "outputs": [
      {
       "metadata": {},
       "output_type": "pyout",
       "prompt_number": 85,
       "text": [
        "'/home/catherine/talks/ipython/ipython-olf2013-talk'"
       ]
      }
     ],
     "prompt_number": 85
    },
    {
     "cell_type": "code",
     "collapsed": false,
     "input": [
      "cd ~"
     ],
     "language": "python",
     "metadata": {},
     "outputs": [
      {
       "output_type": "stream",
       "stream": "stdout",
       "text": [
        "/home/catherine\n"
       ]
      }
     ],
     "prompt_number": 86
    },
    {
     "cell_type": "code",
     "collapsed": false,
     "input": [
      "cd /home/catherine/proj/opensourceshakespeare/"
     ],
     "language": "python",
     "metadata": {},
     "outputs": [
      {
       "output_type": "stream",
       "stream": "stdout",
       "text": [
        "/home/catherine/proj/opensourceshakespeare\n"
       ]
      }
     ],
     "prompt_number": 87
    },
    {
     "cell_type": "code",
     "collapsed": false,
     "input": [
      "cd -"
     ],
     "language": "python",
     "metadata": {},
     "outputs": [
      {
       "output_type": "stream",
       "stream": "stdout",
       "text": [
        "/home/catherine\n"
       ]
      }
     ],
     "prompt_number": 88
    },
    {
     "cell_type": "heading",
     "level": 2,
     "metadata": {},
     "source": [
      "But where have I been?"
     ]
    },
    {
     "cell_type": "code",
     "collapsed": false,
     "input": [
      "cd -"
     ],
     "language": "python",
     "metadata": {},
     "outputs": [
      {
       "output_type": "stream",
       "stream": "stdout",
       "text": [
        "/home/catherine/talks/ipython/ipython-olf2013-talk\n"
       ]
      }
     ],
     "prompt_number": 91
    },
    {
     "cell_type": "code",
     "collapsed": false,
     "input": [
      "cd --"
     ],
     "language": "python",
     "metadata": {},
     "outputs": [],
     "prompt_number": 93
    },
    {
     "cell_type": "code",
     "collapsed": false,
     "input": [
      "cd --shakes"
     ],
     "language": "python",
     "metadata": {},
     "outputs": [
      {
       "output_type": "stream",
       "stream": "stdout",
       "text": [
        "/home/catherine/proj/opensourceshakespeare\n"
       ]
      }
     ],
     "prompt_number": 94
    },
    {
     "cell_type": "heading",
     "level": 1,
     "metadata": {},
     "source": [
      "What have I done?"
     ]
    },
    {
     "cell_type": "code",
     "collapsed": false,
     "input": [
      "print(In[50])"
     ],
     "language": "python",
     "metadata": {},
     "outputs": [
      {
       "output_type": "stream",
       "stream": "stdout",
       "text": [
        "def wordcount(filename):\n",
        "    output = get_ipython().getoutput('wc -w filename')\n",
        "    return int(output[0].split()[0])\n",
        "\n",
        "for filename in textfilenames:\n",
        "    words = wordcount(filename)\n",
        "    echo {textfile} has {words} words.\n"
       ]
      }
     ],
     "prompt_number": 96
    },
    {
     "cell_type": "code",
     "collapsed": false,
     "input": [
      "In[50:55]"
     ],
     "language": "python",
     "metadata": {},
     "outputs": [
      {
       "metadata": {},
       "output_type": "pyout",
       "prompt_number": 98,
       "text": [
        "[\"def wordcount(filename):\\n    output = get_ipython().getoutput('wc -w filename')\\n    return int(output[0].split()[0])\\n\\nfor filename in textfilenames:\\n    words = wordcount(filename)\\n    echo {textfile} has {words} words.\",\n",
        " 'def wordcount(filename):\\n    output = get_ipython().getoutput(\\'wc -w filename\\')\\n    return int(output[0].split()[0])\\n\\nfor filename in textfilenames:\\n    words = wordcount(filename)\\n    print \"%s has %d words.\" % (filename, words)\\n    get_ipython().system(\\'echo That is, {filename} has {words} words.\\')',\n",
        " 'def wordcount(filename):\\n    output = get_ipython().getoutput(\\'wc -w filename\\')\\n    return int(output[0].split()[0])\\n\\nfor filename in textfilenames:\\n    words = wordcount(filename)\\n    print(\"%s has %d words.\" % (filename, words))\\n    get_ipython().system(\\'echo That is, {filename} has {words} words.\\')',\n",
        " 'output',\n",
        " \"def wordcount(filename):\\n    output = get_ipython().getoutput('wc -w filename')\\n    return int(output[0].split()[0])\\n\\nwordcount('bio.txt')\"]"
       ]
      }
     ],
     "prompt_number": 98
    },
    {
     "cell_type": "code",
     "collapsed": false,
     "input": [
      "Out[19]"
     ],
     "language": "python",
     "metadata": {},
     "outputs": [
      {
       "metadata": {},
       "output_type": "pyout",
       "prompt_number": 102,
       "text": [
        "['  1  63 444 bio.txt']"
       ]
      }
     ],
     "prompt_number": 102
    },
    {
     "cell_type": "code",
     "collapsed": false,
     "input": [
      "%logstart"
     ],
     "language": "python",
     "metadata": {},
     "outputs": [
      {
       "output_type": "stream",
       "stream": "stdout",
       "text": [
        "Activating auto-logging. Current session state plus future input saved.\n",
        "Filename       : ipython_log.py\n",
        "Mode           : rotate\n",
        "Output logging : False\n",
        "Raw input log  : False\n",
        "Timestamping   : False\n",
        "State          : active\n"
       ]
      }
     ],
     "prompt_number": 5
    },
    {
     "cell_type": "code",
     "collapsed": false,
     "input": [
      "!head ipython_log.py"
     ],
     "language": "python",
     "metadata": {},
     "outputs": [
      {
       "output_type": "stream",
       "stream": "stdout",
       "text": [
        "# IPython log file\r\n",
        "\r\n",
        "get_ipython().system('047-validator.sh')\r\n",
        "get_ipython().system('ls -F --color 047-validator.sh')\r\n",
        "get_ipython().system('./047-validator.sh')\r\n",
        "get_ipython().system('head ipython_log.py')\r\n",
        "get_ipython().magic('logstart')\r\n",
        "get_ipython().system('head ipython_log.py')\r\n"
       ]
      }
     ],
     "prompt_number": 6
    },
    {
     "cell_type": "heading",
     "level": 2,
     "metadata": {},
     "source": [
      "... and the Notebook itself..."
     ]
    },
    {
     "cell_type": "heading",
     "level": 1,
     "metadata": {},
     "source": [
      "Why?  What does it all mean?"
     ]
    },
    {
     "cell_type": "code",
     "collapsed": false,
     "input": [
      "!head 047-validator.sh"
     ],
     "language": "python",
     "metadata": {},
     "outputs": [
      {
       "output_type": "stream",
       "stream": "stdout",
       "text": [
        "#!/bin/sh\r\n",
        "# VALIDATOR - Checks to ensure that all environment variables are valid\r\n",
        "#   looks at SHELL, HOME, PATH, EDITOR, MAIL, and PAGER\r\n",
        "#\r\n",
        "# from Wicked Cool Shell Scripts by Dave Taylor\r\n",
        "# http://intuitive.com/wicked/wicked-cool-shell-script-library2.shtml\r\n",
        "\r\n",
        "errors=0\r\n",
        "\r\n",
        "in_path()\r\n"
       ]
      }
     ],
     "prompt_number": 19
    },
    {
     "cell_type": "markdown",
     "metadata": {},
     "source": [
      "See [an annotated script](env_validator.ipynb)"
     ]
    },
    {
     "cell_type": "markdown",
     "metadata": {},
     "source": [
      "Complex multi-language process?  Fold it into one annotated Notebook!"
     ]
    },
    {
     "cell_type": "heading",
     "level": 2,
     "metadata": {},
     "source": [
      "Worth a thousand words"
     ]
    },
    {
     "cell_type": "heading",
     "level": 3,
     "metadata": {},
     "source": [
      "**WARNING**: Python ahead"
     ]
    },
    {
     "cell_type": "code",
     "collapsed": false,
     "input": [
      "diskuse_raw = !du --max-depth=1 /home/catherine"
     ],
     "language": "python",
     "metadata": {},
     "outputs": [],
     "prompt_number": 53
    },
    {
     "cell_type": "code",
     "collapsed": false,
     "input": [
      "diskuse_raw"
     ],
     "language": "python",
     "metadata": {},
     "outputs": [
      {
       "metadata": {},
       "output_type": "pyout",
       "prompt_number": 54,
       "text": [
        "['12732\\t/home/catherine/.dropbox',\n",
        " '2048\\t/home/catherine/projorig',\n",
        " '4\\t/home/catherine/.gphoto',\n",
        " '85580\\t/home/catherine/.opera',\n",
        " '532\\t/home/catherine/Pictures',\n",
        " '4\\t/home/catherine/Public',\n",
        " '8\\t/home/catherine/.htsql',\n",
        " '48\\t/home/catherine/.subversion',\n",
        " '3882988\\t/home/catherine/kace',\n",
        " '33600\\t/home/catherine/.dropbox-dist',\n",
        " '647852\\t/home/catherine/.cache',\n",
        " '342800\\t/home/catherine/keep',\n",
        " '2796\\t/home/catherine/.local',\n",
        " '2664\\t/home/catherine/.wingide4',\n",
        " '12\\t/home/catherine/.tuxpaint',\n",
        " '4\\t/home/catherine/Templates',\n",
        " '18604\\t/home/catherine/Calibre Library',\n",
        " '144024\\t/home/catherine/talks',\n",
        " '105464\\t/home/catherine/.config',\n",
        " '4\\t/home/catherine/.continuum',\n",
        " '571688\\t/home/catherine/Ubuntu One',\n",
        " '4\\t/home/catherine/Music',\n",
        " '4\\t/home/catherine/Documents',\n",
        " '1323596\\t/home/catherine/org',\n",
        " '36\\t/home/catherine/.pki',\n",
        " '8\\t/home/catherine/.vim',\n",
        " '5092260\\t/home/catherine/.thunderbird',\n",
        " '748\\t/home/catherine/.freecol',\n",
        " '85504\\t/home/catherine/docs',\n",
        " '1642996\\t/home/catherine/proj',\n",
        " '152276\\t/home/catherine/.mozilla',\n",
        " '56\\t/home/catherine/.matplotlib',\n",
        " '8\\t/home/catherine/.gnome2',\n",
        " '505652\\t/home/catherine/sw',\n",
        " '10172\\t/home/catherine/.gem',\n",
        " '4\\t/home/catherine/dwhelper',\n",
        " '2310288\\t/home/catherine/Downloads',\n",
        " '53516\\t/home/catherine/pers',\n",
        " '4\\t/home/catherine/.gnome2_private',\n",
        " '688\\t/home/catherine/.gstreamer-0.10',\n",
        " '240\\t/home/catherine/temp',\n",
        " '64\\t/home/catherine/.java',\n",
        " '104\\t/home/catherine/.ssh',\n",
        " '1705372\\t/home/catherine/Dropbox_safe',\n",
        " '12\\t/home/catherine/bin',\n",
        " '4\\t/home/catherine/Desktop',\n",
        " '443636\\t/home/catherine/ve',\n",
        " '676\\t/home/catherine/.pip',\n",
        " '1453964\\t/home/catherine/Videos',\n",
        " '4\\t/home/catherine/u1',\n",
        " '1644440\\t/home/catherine/Dropbox',\n",
        " '1284040\\t/home/catherine/anaconda',\n",
        " '23563988\\t/home/catherine']"
       ]
      }
     ],
     "prompt_number": 54
    },
    {
     "cell_type": "code",
     "collapsed": false,
     "input": [
      "diskuse_raw.fields()[:-1]"
     ],
     "language": "python",
     "metadata": {},
     "outputs": [
      {
       "metadata": {},
       "output_type": "pyout",
       "prompt_number": 66,
       "text": [
        "[['12732', '/home/catherine/.dropbox'],\n",
        " ['2048', '/home/catherine/projorig'],\n",
        " ['4', '/home/catherine/.gphoto'],\n",
        " ['85580', '/home/catherine/.opera'],\n",
        " ['532', '/home/catherine/Pictures'],\n",
        " ['4', '/home/catherine/Public'],\n",
        " ['8', '/home/catherine/.htsql'],\n",
        " ['48', '/home/catherine/.subversion'],\n",
        " ['3882988', '/home/catherine/kace'],\n",
        " ['33600', '/home/catherine/.dropbox-dist'],\n",
        " ['647852', '/home/catherine/.cache'],\n",
        " ['342800', '/home/catherine/keep'],\n",
        " ['2796', '/home/catherine/.local'],\n",
        " ['2664', '/home/catherine/.wingide4'],\n",
        " ['12', '/home/catherine/.tuxpaint'],\n",
        " ['4', '/home/catherine/Templates'],\n",
        " ['18604', '/home/catherine/Calibre', 'Library'],\n",
        " ['144024', '/home/catherine/talks'],\n",
        " ['105464', '/home/catherine/.config'],\n",
        " ['4', '/home/catherine/.continuum'],\n",
        " ['571688', '/home/catherine/Ubuntu', 'One'],\n",
        " ['4', '/home/catherine/Music'],\n",
        " ['4', '/home/catherine/Documents'],\n",
        " ['1323596', '/home/catherine/org'],\n",
        " ['36', '/home/catherine/.pki'],\n",
        " ['8', '/home/catherine/.vim'],\n",
        " ['5092260', '/home/catherine/.thunderbird'],\n",
        " ['748', '/home/catherine/.freecol'],\n",
        " ['85504', '/home/catherine/docs'],\n",
        " ['1642996', '/home/catherine/proj'],\n",
        " ['152276', '/home/catherine/.mozilla'],\n",
        " ['56', '/home/catherine/.matplotlib'],\n",
        " ['8', '/home/catherine/.gnome2'],\n",
        " ['505652', '/home/catherine/sw'],\n",
        " ['10172', '/home/catherine/.gem'],\n",
        " ['4', '/home/catherine/dwhelper'],\n",
        " ['2310288', '/home/catherine/Downloads'],\n",
        " ['53516', '/home/catherine/pers'],\n",
        " ['4', '/home/catherine/.gnome2_private'],\n",
        " ['688', '/home/catherine/.gstreamer-0.10'],\n",
        " ['240', '/home/catherine/temp'],\n",
        " ['64', '/home/catherine/.java'],\n",
        " ['104', '/home/catherine/.ssh'],\n",
        " ['1705372', '/home/catherine/Dropbox_safe'],\n",
        " ['12', '/home/catherine/bin'],\n",
        " ['4', '/home/catherine/Desktop'],\n",
        " ['443636', '/home/catherine/ve'],\n",
        " ['676', '/home/catherine/.pip'],\n",
        " ['1453964', '/home/catherine/Videos'],\n",
        " ['4', '/home/catherine/u1'],\n",
        " ['1644440', '/home/catherine/Dropbox'],\n",
        " ['1284040', '/home/catherine/anaconda']]"
       ]
      }
     ],
     "prompt_number": 66
    },
    {
     "cell_type": "code",
     "collapsed": false,
     "input": [
      "[[int(line[0]), line[1]] for line in diskuse_raw.fields()[:-1]]"
     ],
     "language": "python",
     "metadata": {},
     "outputs": [
      {
       "metadata": {},
       "output_type": "pyout",
       "prompt_number": 67,
       "text": [
        "[[12732, '/home/catherine/.dropbox'],\n",
        " [2048, '/home/catherine/projorig'],\n",
        " [4, '/home/catherine/.gphoto'],\n",
        " [85580, '/home/catherine/.opera'],\n",
        " [532, '/home/catherine/Pictures'],\n",
        " [4, '/home/catherine/Public'],\n",
        " [8, '/home/catherine/.htsql'],\n",
        " [48, '/home/catherine/.subversion'],\n",
        " [3882988, '/home/catherine/kace'],\n",
        " [33600, '/home/catherine/.dropbox-dist'],\n",
        " [647852, '/home/catherine/.cache'],\n",
        " [342800, '/home/catherine/keep'],\n",
        " [2796, '/home/catherine/.local'],\n",
        " [2664, '/home/catherine/.wingide4'],\n",
        " [12, '/home/catherine/.tuxpaint'],\n",
        " [4, '/home/catherine/Templates'],\n",
        " [18604, '/home/catherine/Calibre'],\n",
        " [144024, '/home/catherine/talks'],\n",
        " [105464, '/home/catherine/.config'],\n",
        " [4, '/home/catherine/.continuum'],\n",
        " [571688, '/home/catherine/Ubuntu'],\n",
        " [4, '/home/catherine/Music'],\n",
        " [4, '/home/catherine/Documents'],\n",
        " [1323596, '/home/catherine/org'],\n",
        " [36, '/home/catherine/.pki'],\n",
        " [8, '/home/catherine/.vim'],\n",
        " [5092260, '/home/catherine/.thunderbird'],\n",
        " [748, '/home/catherine/.freecol'],\n",
        " [85504, '/home/catherine/docs'],\n",
        " [1642996, '/home/catherine/proj'],\n",
        " [152276, '/home/catherine/.mozilla'],\n",
        " [56, '/home/catherine/.matplotlib'],\n",
        " [8, '/home/catherine/.gnome2'],\n",
        " [505652, '/home/catherine/sw'],\n",
        " [10172, '/home/catherine/.gem'],\n",
        " [4, '/home/catherine/dwhelper'],\n",
        " [2310288, '/home/catherine/Downloads'],\n",
        " [53516, '/home/catherine/pers'],\n",
        " [4, '/home/catherine/.gnome2_private'],\n",
        " [688, '/home/catherine/.gstreamer-0.10'],\n",
        " [240, '/home/catherine/temp'],\n",
        " [64, '/home/catherine/.java'],\n",
        " [104, '/home/catherine/.ssh'],\n",
        " [1705372, '/home/catherine/Dropbox_safe'],\n",
        " [12, '/home/catherine/bin'],\n",
        " [4, '/home/catherine/Desktop'],\n",
        " [443636, '/home/catherine/ve'],\n",
        " [676, '/home/catherine/.pip'],\n",
        " [1453964, '/home/catherine/Videos'],\n",
        " [4, '/home/catherine/u1'],\n",
        " [1644440, '/home/catherine/Dropbox'],\n",
        " [1284040, '/home/catherine/anaconda']]"
       ]
      }
     ],
     "prompt_number": 67
    },
    {
     "cell_type": "code",
     "collapsed": false,
     "input": [
      "[[int(line[0]), line[1]] for line in diskuse_raw.fields()[:-1] if int(line[0]) > 1000000]"
     ],
     "language": "python",
     "metadata": {},
     "outputs": [
      {
       "metadata": {},
       "output_type": "pyout",
       "prompt_number": 68,
       "text": [
        "[[3882988, '/home/catherine/kace'],\n",
        " [1323596, '/home/catherine/org'],\n",
        " [5092260, '/home/catherine/.thunderbird'],\n",
        " [1642996, '/home/catherine/proj'],\n",
        " [2310288, '/home/catherine/Downloads'],\n",
        " [1705372, '/home/catherine/Dropbox_safe'],\n",
        " [1453964, '/home/catherine/Videos'],\n",
        " [1644440, '/home/catherine/Dropbox'],\n",
        " [1284040, '/home/catherine/anaconda']]"
       ]
      }
     ],
     "prompt_number": 68
    },
    {
     "cell_type": "code",
     "collapsed": false,
     "input": [
      "diskuse_split = _"
     ],
     "language": "python",
     "metadata": {},
     "outputs": [],
     "prompt_number": 69
    },
    {
     "cell_type": "code",
     "collapsed": false,
     "input": [
      "diskuse_split"
     ],
     "language": "python",
     "metadata": {},
     "outputs": [
      {
       "metadata": {},
       "output_type": "pyout",
       "prompt_number": 70,
       "text": [
        "[[3882988, '/home/catherine/kace'],\n",
        " [1323596, '/home/catherine/org'],\n",
        " [5092260, '/home/catherine/.thunderbird'],\n",
        " [1642996, '/home/catherine/proj'],\n",
        " [2310288, '/home/catherine/Downloads'],\n",
        " [1705372, '/home/catherine/Dropbox_safe'],\n",
        " [1453964, '/home/catherine/Videos'],\n",
        " [1644440, '/home/catherine/Dropbox'],\n",
        " [1284040, '/home/catherine/anaconda']]"
       ]
      }
     ],
     "prompt_number": 70
    },
    {
     "cell_type": "code",
     "collapsed": false,
     "input": [
      "[bytes for (bytes, name) in diskuse_split]"
     ],
     "language": "python",
     "metadata": {},
     "outputs": [
      {
       "metadata": {},
       "output_type": "pyout",
       "prompt_number": 71,
       "text": [
        "[3882988,\n",
        " 1323596,\n",
        " 5092260,\n",
        " 1642996,\n",
        " 2310288,\n",
        " 1705372,\n",
        " 1453964,\n",
        " 1644440,\n",
        " 1284040]"
       ]
      }
     ],
     "prompt_number": 71
    },
    {
     "cell_type": "code",
     "collapsed": false,
     "input": [
      "[name for (bytes, name) in diskuse_split]"
     ],
     "language": "python",
     "metadata": {},
     "outputs": [
      {
       "metadata": {},
       "output_type": "pyout",
       "prompt_number": 72,
       "text": [
        "['/home/catherine/kace',\n",
        " '/home/catherine/org',\n",
        " '/home/catherine/.thunderbird',\n",
        " '/home/catherine/proj',\n",
        " '/home/catherine/Downloads',\n",
        " '/home/catherine/Dropbox_safe',\n",
        " '/home/catherine/Videos',\n",
        " '/home/catherine/Dropbox',\n",
        " '/home/catherine/anaconda']"
       ]
      }
     ],
     "prompt_number": 72
    },
    {
     "cell_type": "markdown",
     "metadata": {},
     "source": [
      "There are faster ways to extract the columns, but they're harder to understand"
     ]
    },
    {
     "cell_type": "code",
     "collapsed": false,
     "input": [
      "%matplotlib inline\n",
      "import matplotlib.pyplot as plt"
     ],
     "language": "python",
     "metadata": {},
     "outputs": [],
     "prompt_number": 32
    },
    {
     "cell_type": "code",
     "collapsed": false,
     "input": [
      "plt.pie([bytes for (bytes, name) in diskuse_split],\n",
      "        labels=[name for (bytes, name) in diskuse_split])"
     ],
     "language": "python",
     "metadata": {},
     "outputs": [
      {
       "metadata": {},
       "output_type": "pyout",
       "prompt_number": 74,
       "text": [
        "([<matplotlib.patches.Wedge at 0x33d2190>,\n",
        "  <matplotlib.patches.Wedge at 0x33d2790>,\n",
        "  <matplotlib.patches.Wedge at 0x33d2c90>,\n",
        "  <matplotlib.patches.Wedge at 0x33ea1d0>,\n",
        "  <matplotlib.patches.Wedge at 0x33ea750>,\n",
        "  <matplotlib.patches.Wedge at 0x33eacd0>,\n",
        "  <matplotlib.patches.Wedge at 0x33eb210>,\n",
        "  <matplotlib.patches.Wedge at 0x33eb790>,\n",
        "  <matplotlib.patches.Wedge at 0x33ebd10>],\n",
        " [<matplotlib.text.Text at 0x33d2550>,\n",
        "  <matplotlib.text.Text at 0x33d2bd0>,\n",
        "  <matplotlib.text.Text at 0x33ea110>,\n",
        "  <matplotlib.text.Text at 0x33ea550>,\n",
        "  <matplotlib.text.Text at 0x33eaad0>,\n",
        "  <matplotlib.text.Text at 0x33eb150>,\n",
        "  <matplotlib.text.Text at 0x33eb590>,\n",
        "  <matplotlib.text.Text at 0x33ebb10>,\n",
        "  <matplotlib.text.Text at 0x35310d0>])"
       ]
      },
      {
       "metadata": {},
       "output_type": "display_data",
       "png": "[encoded data removed]",
       "text": [
        "<matplotlib.figure.Figure at 0x3577810>"
       ]
      }
     ],
     "prompt_number": 74
    },
    {
     "cell_type": "code",
     "collapsed": false,
     "input": [
      "class DiskUse(object):\n",
      "    def __init__(self, directory='.', max_depth=1, min_bytes = 1000000):\n",
      "        self.directory = directory\n",
      "        self.max_depth = max_depth\n",
      "        self.min_bytes = min_bytes\n",
      "        self.raw_data =! du --max-depth={self.max_depth} {self.directory}\n",
      "        self.data = [(int(line[0]), line[1]) for line in self.raw_data.fields()[:-1]]\n",
      "        self.bytes = [bytes for (bytes, name) in self.data if bytes > self.min_bytes]\n",
      "        self.names = [name for (bytes, name) in self.data if bytes > self.min_bytes]\n",
      "    def _repr_html_(self):\n",
      "        plt.pie(self.bytes, labels=self.names)"
     ],
     "language": "python",
     "metadata": {},
     "outputs": [],
     "prompt_number": 91
    },
    {
     "cell_type": "code",
     "collapsed": false,
     "input": [
      "DiskUse('/home/catherine')"
     ],
     "language": "python",
     "metadata": {},
     "outputs": [
      {
       "metadata": {},
       "output_type": "pyout",
       "prompt_number": 100,
       "text": [
        "<__main__.DiskUse at 0x39aaf10>"
       ]
      },
      {
       "metadata": {},
       "output_type": "display_data",
       "png": "[encoded data removed]",
       "text": [
        "<matplotlib.figure.Figure at 0x39aa750>"
       ]
      }
     ],
     "prompt_number": 100
    }
   ],
   "metadata": {}
  }
 ]
}