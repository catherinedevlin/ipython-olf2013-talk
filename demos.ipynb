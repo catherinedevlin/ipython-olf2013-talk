{
 "metadata": {
  "name": ""
 },
 "nbformat": 3,
 "nbformat_minor": 0,
 "worksheets": [
  {
   "cells": [
    {
     "cell_type": "heading",
     "level": 1,
     "metadata": {},
     "source": [
      "Anything you can do..."
     ]
    },
    {
     "cell_type": "markdown",
     "metadata": {},
     "source": [
      "![IPython and Bash logos](files/ipy-vs-bash.png)"
     ]
    },
    {
     "cell_type": "heading",
     "level": 1,
     "metadata": {},
     "source": [
      "Issue familiar commands"
     ]
    },
    {
     "cell_type": "code",
     "collapsed": false,
     "input": [
      "pwd"
     ],
     "language": "python",
     "metadata": {},
     "outputs": [
      {
       "metadata": {},
       "output_type": "pyout",
       "prompt_number": 1,
       "text": [
        "u'/home/catherine/talks/ipython/ipython-olf2013-talk'"
       ]
      }
     ],
     "prompt_number": 1
    },
    {
     "cell_type": "code",
     "collapsed": false,
     "input": [
      "ls"
     ],
     "language": "python",
     "metadata": {},
     "outputs": [
      {
       "output_type": "stream",
       "stream": "stdout",
       "text": [
        "\u001b[0m\u001b[38;5;34m047-validator.sh\u001b[0m*  demos.ipy            ipy-no-py.odg    \u001b[38;5;13mipy-vs-bash.png\u001b[0m    presentation.ipynb        \u001b[38;5;27mreveal.js\u001b[0m/\r\n",
        "Abstract.txt       demos.ipynb          \u001b[38;5;13mipy-no-py.png\u001b[0m    \u001b[38;5;27misitpyconyet.com\u001b[0m/  presentation.slides.html  \u001b[38;5;34mserve.sh\u001b[0m*\r\n",
        "bio.txt            env_validator.ipynb  ipy-vs-bash.odg  LICENSE            README.md\r\n"
       ]
      }
     ],
     "prompt_number": 2
    },
    {
     "cell_type": "code",
     "collapsed": false,
     "input": [
      "cat bio.txt"
     ],
     "language": "python",
     "metadata": {},
     "outputs": [
      {
       "output_type": "stream",
       "stream": "stdout",
       "text": [
        "A freak accident in 2000 transformed Catherine from a chemical engineering grad student to a database administrator and sometimes reluctant sysadmin, but she didn't gain superpowers until she picked up Python in 2003.  She was PyOhio's first chair and currently leads the Dayton Dynamic Languages group.  She works for Dell KACE, speaks around the region, blogs at catherinedevlin.blogspot.com, and releases code at github.com/catherinedevlin.\r\n"
       ]
      }
     ],
     "prompt_number": 3
    },
    {
     "cell_type": "heading",
     "level": 2,
     "metadata": {},
     "source": [
      "and less familiar commands"
     ]
    },
    {
     "cell_type": "code",
     "collapsed": false,
     "input": [
      "!wc *.txt"
     ],
     "language": "python",
     "metadata": {},
     "outputs": [
      {
       "output_type": "stream",
       "stream": "stdout",
       "text": [
        "  3  65 410 Abstract.txt\r\n",
        "  1  63 444 bio.txt\r\n",
        "  4 128 854 total\r\n"
       ]
      }
     ],
     "prompt_number": 4
    },
    {
     "cell_type": "heading",
     "level": 2,
     "metadata": {},
     "source": [
      "Populate your aliases"
     ]
    },
    {
     "cell_type": "code",
     "collapsed": false,
     "input": [
      "%rehashx"
     ],
     "language": "python",
     "metadata": {},
     "outputs": [],
     "prompt_number": 5
    },
    {
     "cell_type": "code",
     "collapsed": false,
     "input": [
      "wc bio.txt"
     ],
     "language": "python",
     "metadata": {},
     "outputs": [
      {
       "output_type": "stream",
       "stream": "stdout",
       "text": [
        "  1  63 444 bio.txt\r\n"
       ]
      }
     ],
     "prompt_number": 6
    },
    {
     "cell_type": "heading",
     "level": 2,
     "metadata": {},
     "source": [
      "IPython aliases"
     ]
    },
    {
     "cell_type": "code",
     "collapsed": false,
     "input": [
      "%alias getpage wget -rkp -np %l"
     ],
     "language": "python",
     "metadata": {},
     "outputs": [],
     "prompt_number": 7
    },
    {
     "cell_type": "code",
     "collapsed": false,
     "input": [
      "getpage http://isitpyconyet.com/"
     ],
     "language": "python",
     "metadata": {},
     "outputs": [
      {
       "output_type": "stream",
       "stream": "stdout",
       "text": [
        "--2013-09-14 18:33:48--  http://isitpyconyet.com/\r\n",
        "Resolving isitpyconyet.com (isitpyconyet.com)... "
       ]
      },
      {
       "output_type": "stream",
       "stream": "stdout",
       "text": [
        "205.196.219.49\r\n",
        "Connecting to isitpyconyet.com (isitpyconyet.com)|205.196.219.49|:80... "
       ]
      },
      {
       "output_type": "stream",
       "stream": "stdout",
       "text": [
        "connected.\r\n",
        "HTTP request sent, awaiting response... "
       ]
      },
      {
       "output_type": "stream",
       "stream": "stdout",
       "text": [
        "200 OK\r\n",
        "Length: 875 [text/html]\r\n",
        "Saving to: \u2018isitpyconyet.com/index.html\u2019\r\n",
        "\r\n",
        "\r",
        " 0% [                                       ] 0           --.-K/s              \r",
        "100%[======================================>] 875         --.-K/s   in 0s      \r\n",
        "\r\n",
        "2013-09-14 18:33:48 (129 MB/s) - \u2018isitpyconyet.com/index.html\u2019 saved [875/875]\r\n",
        "\r\n",
        "Loading robots.txt; please ignore errors.\r\n",
        "--2013-09-14 18:33:48--  http://isitpyconyet.com/robots.txt\r\n",
        "Reusing existing connection to isitpyconyet.com:80.\r\n",
        "HTTP request sent, awaiting response... "
       ]
      },
      {
       "output_type": "stream",
       "stream": "stdout",
       "text": [
        "404 Not Found\r\n",
        "2013-09-14 18:33:48 ERROR 404: Not Found.\r\n",
        "\r\n",
        "--2013-09-14 18:33:48--  http://isitpyconyet.com/favicon.ico\r\n",
        "Reusing existing connection to isitpyconyet.com:80.\r\n",
        "HTTP request sent, awaiting response... "
       ]
      },
      {
       "output_type": "stream",
       "stream": "stdout",
       "text": [
        "200 OK\r\n",
        "Length: 3774 (3.7K) [image/x-icon]\r\n",
        "Saving to: \u2018isitpyconyet.com/favicon.ico\u2019\r\n",
        "\r\n",
        "\r",
        " 0% [                                       ] 0           --.-K/s              \r",
        "100%[======================================>] 3,774       --.-K/s   in 0.002s  \r\n",
        "\r\n",
        "2013-09-14 18:33:48 (1.53 MB/s) - \u2018isitpyconyet.com/favicon.ico\u2019 saved [3774/3774]\r\n",
        "\r\n",
        "--2013-09-14 18:33:48--  http://isitpyconyet.com/pycon.js\r\n",
        "Reusing existing connection to isitpyconyet.com:80.\r\n",
        "HTTP request sent, awaiting response... "
       ]
      },
      {
       "output_type": "stream",
       "stream": "stdout",
       "text": [
        "200 OK\r\n",
        "Length: 924 [application/javascript]\r\n",
        "Saving to: \u2018isitpyconyet.com/pycon.js\u2019\r\n",
        "\r\n",
        "\r",
        " 0% [                                       ] 0           --.-K/s              \r",
        "100%[======================================>] 924         --.-K/s   in 0s      \r\n",
        "\r\n",
        "2013-09-14 18:33:48 (146 MB/s) - \u2018isitpyconyet.com/pycon.js\u2019 saved [924/924]\r\n",
        "\r\n",
        "--2013-09-14 18:33:48--  http://isitpyconyet.com/pycon.css\r\n",
        "Reusing existing connection to isitpyconyet.com:80.\r\n",
        "HTTP request sent, awaiting response... "
       ]
      },
      {
       "output_type": "stream",
       "stream": "stdout",
       "text": [
        "200 OK\r\n",
        "Length: 109 [text/css]\r\n",
        "Saving to: \u2018isitpyconyet.com/pycon.css\u2019\r\n",
        "\r\n",
        "\r",
        " 0% [                                       ] 0           --.-K/s              \r",
        "100%[======================================>] 109         --.-K/s   in 0s      \r\n",
        "\r\n",
        "2013-09-14 18:33:48 (14.8 MB/s) - \u2018isitpyconyet.com/pycon.css\u2019 saved [109/109]\r\n",
        "\r\n",
        "FINISHED --2013-09-14 18:33:48--\r\n",
        "Total wall clock time: 0.6s\r\n",
        "Downloaded: 4 files, 5.5K in 0.002s (2.29 MB/s)\r\n",
        "Converting isitpyconyet.com/index.html... 3-0\r\n",
        "Converting isitpyconyet.com/pycon.css... nothing to do.\r\n",
        "Converted 2 files in 0 seconds.\r\n"
       ]
      }
     ],
     "prompt_number": 8
    },
    {
     "cell_type": "markdown",
     "metadata": {},
     "source": [
      "[Is it PyCon yet?](files/isitpyconyet.com/index.html)"
     ]
    },
    {
     "cell_type": "heading",
     "level": 1,
     "metadata": {},
     "source": [
      "Use tab completion"
     ]
    },
    {
     "cell_type": "code",
     "collapsed": false,
     "input": [
      "free"
     ],
     "language": "python",
     "metadata": {},
     "outputs": [
      {
       "output_type": "stream",
       "stream": "stdout",
       "text": [
        "             total       used       free     shared    buffers     cached\r\n",
        "Mem:       3929240    3738684     190556          0     181028    1268724\r\n",
        "-/+ buffers/cache:    2288932    1640308\r\n",
        "Swap:      3948540     667900    3280640\r\n"
       ]
      }
     ],
     "prompt_number": 9
    },
    {
     "cell_type": "code",
     "collapsed": false,
     "input": [
      "cat Abstract.txt"
     ],
     "language": "python",
     "metadata": {},
     "outputs": [
      {
       "output_type": "stream",
       "stream": "stdout",
       "text": [
        "Break out of your (bash) shell!  IPython and the IPython Notebook have swept over the Python programming community, but they're not just for Python programmers - they make for superpowered shell replacements even with little to no Python knowledge.  They'll also let you document your work and collaborate with others like never before.  Find out how these beautiful tools can improve your daily Linux work!\r\n",
        "\r\n",
        "\r\n"
       ]
      }
     ],
     "prompt_number": 10
    },
    {
     "cell_type": "code",
     "collapsed": false,
     "input": [
      "%magic"
     ],
     "language": "python",
     "metadata": {},
     "outputs": [],
     "prompt_number": 11
    },
    {
     "cell_type": "heading",
     "level": 1,
     "metadata": {},
     "source": [
      "Use scripts"
     ]
    },
    {
     "cell_type": "code",
     "collapsed": false,
     "input": [
      "!head 047-validator.sh"
     ],
     "language": "python",
     "metadata": {},
     "outputs": [
      {
       "output_type": "stream",
       "stream": "stdout",
       "text": [
        "#!/bin/sh\r\n",
        "# VALIDATOR - Checks to ensure that all environment variables are valid\r\n",
        "#   looks at SHELL, HOME, PATH, EDITOR, MAIL, and PAGER\r\n",
        "#\r\n",
        "# from Wicked Cool Shell Scripts by Dave Taylor\r\n",
        "# http://intuitive.com/wicked/wicked-cool-shell-script-library2.shtml\r\n",
        "\r\n",
        "errors=0\r\n",
        "\r\n",
        "in_path()\r\n"
       ]
      }
     ],
     "prompt_number": 12
    },
    {
     "cell_type": "code",
     "collapsed": false,
     "input": [
      "!./047-validator.sh\n"
     ],
     "language": "python",
     "metadata": {},
     "outputs": [
      {
       "output_type": "stream",
       "stream": "stdout",
       "text": [
        "** PATH contains invalid directory /home/catherine/.local/bin\r\n",
        "Errors encountered. Please notify sysadmin for help.\r\n"
       ]
      }
     ],
     "prompt_number": 13
    },
    {
     "cell_type": "heading",
     "level": 2,
     "metadata": {},
     "source": [
      "Better yet, load them into your Notebook"
     ]
    },
    {
     "cell_type": "code",
     "collapsed": false,
     "input": [
      "%load 047-validator.sh"
     ],
     "language": "python",
     "metadata": {},
     "outputs": [],
     "prompt_number": 14
    },
    {
     "cell_type": "code",
     "collapsed": false,
     "input": [
      "#!/bin/sh\n",
      "# VALIDATOR - Checks to ensure that all environment variables are valid\n",
      "#   looks at SHELL, HOME, PATH, EDITOR, MAIL, and PAGER\n",
      "#\n",
      "# from Wicked Cool Shell Scripts by Dave Taylor\n",
      "# http://intuitive.com/wicked/wicked-cool-shell-script-library2.shtml\n",
      "\n",
      "errors=0\n",
      "\n",
      "in_path()\n",
      "{\n",
      "  # given a command and the PATH, try to find the command. Returns\n",
      "  # 1 if found, 0 if not.  Note that this temporarily modifies the\n",
      "  # the IFS input field seperator, but restores it upon completion.\n",
      "  cmd=$1    path=$2    retval=0\n",
      "\n",
      "  oldIFS=$IFS; IFS=\":\"\n",
      "\n",
      "  for directory in $path \n",
      "  do\n",
      "    if [ -x $directory/$cmd ] ; then\n",
      "      retval=1      # if we're here, we found $cmd in $directory\n",
      "    fi\n",
      "  done\n",
      "  IFS=$oldIFS\n",
      "  return $retval\n",
      "}\n",
      "\n",
      "validate()\n",
      "{\n",
      "  varname=$1    varvalue=$2\n",
      "  \n",
      "  if [ ! -z $varvalue ] ; then\n",
      "    if [ \"${varvalue%${varvalue#?}}\" = \"/\" ] ; then\n",
      "      if [ ! -x $varvalue ] ; then\n",
      "        echo \"** $varname set to $varvalue, but I cannot find executable.\"\n",
      "        errors=$(( $errors + 1 ))\n",
      "      fi\n",
      "    else\n",
      "      if in_path $varvalue $PATH ; then \n",
      "        echo \"** $varname set to $varvalue, but I cannot find it in PATH.\"\n",
      "        errors=$(( $errors + 1 ))\n",
      "      fi\n",
      "    fi \n",
      "  fi\n",
      "}\n",
      "\n",
      "####### Beginning of actual shell script #######\n",
      "\n",
      "if [ ! -x ${SHELL:?\"Cannot proceed without SHELL being defined.\"} ] ; then\n",
      "  echo \"** SHELL set to $SHELL, but I cannot find that executable.\"\n",
      "  errors=$(( $errors + 1 ))\n",
      "fi\n",
      "\n",
      "if [ ! -d ${HOME:?\"You need to have your HOME set to your home directory\"} ]\n",
      "then\n",
      "  echo \"** HOME set to $HOME, but it's not a directory.\"\n",
      "  errors=$(( $errors + 1 ))\n",
      "fi\n",
      "\n",
      "# Our first interesting test: are all the paths in PATH valid?\n",
      "\n",
      "oldIFS=$IFS; IFS=\":\"     # IFS is the field separator. We'll change to ':'\n",
      "\n",
      "for directory in $PATH\n",
      "do\n",
      "  if [ ! -d $directory ] ; then\n",
      "      echo \"** PATH contains invalid directory $directory\"\n",
      "      errors=$(( $errors + 1 ))\n",
      "  fi\n",
      "done\n",
      "\n",
      "IFS=$oldIFS             # restore value for rest of script\n",
      "\n",
      "# The following can be undefined, and they can also be a progname, rather\n",
      "# than a fully qualified path.  Add additional variables as necessary for\n",
      "# your site and user community.\n",
      "\n",
      "validate \"EDITOR\" $EDITOR\n",
      "validate \"MAILER\" $MAILER\n",
      "validate \"PAGER\"  $PAGER\n",
      "\n",
      "# and, finally, a different ending depending on whether errors > 0\n",
      "\n",
      "if [ $errors -gt 0 ] ; then\n",
      "  echo \"Errors encountered. Please notify sysadmin for help.\"\n",
      "else\n",
      "  echo \"Your environment checks out fine.\"\n",
      "fi\n",
      "\n",
      "exit 0\n"
     ],
     "language": "python",
     "metadata": {},
     "outputs": []
    },
    {
     "cell_type": "code",
     "collapsed": false,
     "input": [
      "%%bash\n",
      "#!/bin/sh\n",
      "# VALIDATOR - Checks to ensure that all environment variables are valid\n",
      "#   looks at SHELL, HOME, PATH, EDITOR, MAIL, and PAGER\n",
      "#\n",
      "# from Wicked Cool Shell Scripts by Dave Taylor\n",
      "# http://intuitive.com/wicked/wicked-cool-shell-script-library2.shtml\n",
      "\n",
      "errors=0\n",
      "\n",
      "in_path()\n",
      "{\n",
      "  # given a command and the PATH, try to find the command. Returns\n",
      "  # 1 if found, 0 if not.  Note that this temporarily modifies the\n",
      "  # the IFS input field seperator, but restores it upon completion.\n",
      "  cmd=$1    path=$2    retval=0\n",
      "\n",
      "  oldIFS=$IFS; IFS=\":\"\n",
      "\n",
      "  for directory in $path \n",
      "  do\n",
      "    if [ -x $directory/$cmd ] ; then\n",
      "      retval=1      # if we're here, we found $cmd in $directory\n",
      "    fi\n",
      "  done\n",
      "  IFS=$oldIFS\n",
      "  return $retval\n",
      "}\n",
      "\n",
      "validate()\n",
      "{\n",
      "  varname=$1    varvalue=$2\n",
      "  \n",
      "  if [ ! -z $varvalue ] ; then\n",
      "    if [ \"${varvalue%${varvalue#?}}\" = \"/\" ] ; then\n",
      "      if [ ! -x $varvalue ] ; then\n",
      "        echo \"** $varname set to $varvalue, but I cannot find executable.\"\n",
      "        errors=$(( $errors + 1 ))\n",
      "      fi\n",
      "    else\n",
      "      if in_path $varvalue $PATH ; then \n",
      "        echo \"** $varname set to $varvalue, but I cannot find it in PATH.\"\n",
      "        errors=$(( $errors + 1 ))\n",
      "      fi\n",
      "    fi \n",
      "  fi\n",
      "}\n",
      "\n",
      "####### Beginning of actual shell script #######\n",
      "\n",
      "if [ ! -x ${SHELL:?\"Cannot proceed without SHELL being defined.\"} ] ; then\n",
      "  echo \"** SHELL set to $SHELL, but I cannot find that executable.\"\n",
      "  errors=$(( $errors + 1 ))\n",
      "fi\n",
      "\n",
      "if [ ! -d ${HOME:?\"You need to have your HOME set to your home directory\"} ]\n",
      "then\n",
      "  echo \"** HOME set to $HOME, but it's not a directory.\"\n",
      "  errors=$(( $errors + 1 ))\n",
      "fi\n",
      "\n",
      "# Our first interesting test: are all the paths in PATH valid?\n",
      "\n",
      "oldIFS=$IFS; IFS=\":\"     # IFS is the field separator. We'll change to ':'\n",
      "\n",
      "for directory in $PATH\n",
      "do\n",
      "  if [ ! -d $directory ] ; then\n",
      "      echo \"** PATH contains invalid directory $directory\"\n",
      "      errors=$(( $errors + 1 ))\n",
      "  fi\n",
      "done\n",
      "\n",
      "IFS=$oldIFS             # restore value for rest of script\n",
      "\n",
      "# The following can be undefined, and they can also be a progname, rather\n",
      "# than a fully qualified path.  Add additional variables as necessary for\n",
      "# your site and user community.\n",
      "\n",
      "validate \"EDITOR\" $EDITOR\n",
      "validate \"MAILER\" $MAILER\n",
      "validate \"PAGER\"  $PAGER\n",
      "\n",
      "# and, finally, a different ending depending on whether errors > 0\n",
      "\n",
      "if [ $errors -gt 0 ] ; then\n",
      "  echo \"Errors encountered. Please notify sysadmin for help.\"\n",
      "else\n",
      "  echo \"Your environment checks out fine.\"\n",
      "fi\n",
      "\n",
      "exit 0\n"
     ],
     "language": "python",
     "metadata": {},
     "outputs": [
      {
       "output_type": "stream",
       "stream": "stdout",
       "text": [
        "** PATH contains invalid directory /home/catherine/.local/bin\n",
        "Errors encountered. Please notify sysadmin for help.\n"
       ]
      }
     ],
     "prompt_number": 15
    },
    {
     "cell_type": "heading",
     "level": 2,
     "metadata": {},
     "source": [
      "And not just Bash scripts"
     ]
    },
    {
     "cell_type": "code",
     "collapsed": false,
     "input": [
      "%%ruby\n",
      "say = \"if that's your thing\"\n",
      "puts say.upcase"
     ],
     "language": "python",
     "metadata": {},
     "outputs": [
      {
       "output_type": "stream",
       "stream": "stdout",
       "text": [
        "IF THAT'S YOUR THING\n"
       ]
      }
     ],
     "prompt_number": 16
    },
    {
     "cell_type": "code",
     "collapsed": false,
     "input": [
      "%%script perl\n",
      "open (ABSTRACT, 'Abstract.txt');\n",
      "  while (<ABSTRACT>) {\n",
      "    $_ =~ s/([A-Z][a-z]*)/reverse($1)/ge; \n",
      "    print $_;\n",
      " }"
     ],
     "language": "python",
     "metadata": {},
     "outputs": [
      {
       "output_type": "stream",
       "stream": "stdout",
       "text": [
        "kaerB out of your (bash) shell!  InohtyP and the InohtyP koobetoN have swept over the nohtyP programming community, but they're not just for nohtyP programmers - they make for superpowered shell replacements even with little to no nohtyP knowledge.  yehT'll also let you document your work and collaborate with others like never before.  dniF out how these beautiful tools can improve your daily xuniL work!\n",
        "\n",
        "\n"
       ]
      }
     ],
     "prompt_number": 17
    },
    {
     "cell_type": "heading",
     "level": 1,
     "metadata": {},
     "source": [
      "... I can do better!"
     ]
    },
    {
     "cell_type": "markdown",
     "metadata": {},
     "source": [
      "![IPython and Bash logos](files/ipy-vs-bash.png)"
     ]
    },
    {
     "cell_type": "heading",
     "level": 2,
     "metadata": {},
     "source": [
      "Load from URL"
     ]
    },
    {
     "cell_type": "markdown",
     "metadata": {},
     "source": [
      "[script provided on web](http://catherinedevlin.pythoneers.com/047-validator.sh)"
     ]
    },
    {
     "cell_type": "code",
     "collapsed": false,
     "input": [
      "%load http://catherinedevlin.pythoneers.com/047-validator.sh"
     ],
     "language": "python",
     "metadata": {},
     "outputs": [],
     "prompt_number": 18
    },
    {
     "cell_type": "code",
     "collapsed": false,
     "input": [
      "#!/bin/sh\n",
      "# VALIDATOR - Checks to ensure that all environment variables are valid\n",
      "#   looks at SHELL, HOME, PATH, EDITOR, MAIL, and PAGER\n",
      "#\n",
      "# from Wicked Cool Shell Scripts by Dave Taylor\n",
      "# http://intuitive.com/wicked/wicked-cool-shell-script-library2.shtml\n",
      "\n",
      "errors=0\n",
      "\n",
      "in_path()\n",
      "{\n",
      "  # given a command and the PATH, try to find the command. Returns\n",
      "  # 1 if found, 0 if not.  Note that this temporarily modifies the\n",
      "  # the IFS input field seperator, but restores it upon completion.\n",
      "  cmd=$1    path=$2    retval=0\n",
      "\n",
      "  oldIFS=$IFS; IFS=\":\"\n",
      "\n",
      "  for directory in $path \n",
      "  do\n",
      "    if [ -x $directory/$cmd ] ; then\n",
      "      retval=1      # if we're here, we found $cmd in $directory\n",
      "    fi\n",
      "  done\n",
      "  IFS=$oldIFS\n",
      "  return $retval\n",
      "}\n",
      "\n",
      "validate()\n",
      "{\n",
      "  varname=$1    varvalue=$2\n",
      "  \n",
      "  if [ ! -z $varvalue ] ; then\n",
      "    if [ \"${varvalue%${varvalue#?}}\" = \"/\" ] ; then\n",
      "      if [ ! -x $varvalue ] ; then\n",
      "        echo \"** $varname set to $varvalue, but I cannot find executable.\"\n",
      "        errors=$(( $errors + 1 ))\n",
      "      fi\n",
      "    else\n",
      "      if in_path $varvalue $PATH ; then \n",
      "        echo \"** $varname set to $varvalue, but I cannot find it in PATH.\"\n",
      "        errors=$(( $errors + 1 ))\n",
      "      fi\n",
      "    fi \n",
      "  fi\n",
      "}\n",
      "\n",
      "####### Beginning of actual shell script #######\n",
      "\n",
      "if [ ! -x ${SHELL:?\"Cannot proceed without SHELL being defined.\"} ] ; then\n",
      "  echo \"** SHELL set to $SHELL, but I cannot find that executable.\"\n",
      "  errors=$(( $errors + 1 ))\n",
      "fi\n",
      "\n",
      "if [ ! -d ${HOME:?\"You need to have your HOME set to your home directory\"} ]\n",
      "then\n",
      "  echo \"** HOME set to $HOME, but it's not a directory.\"\n",
      "  errors=$(( $errors + 1 ))\n",
      "fi\n",
      "\n",
      "# Our first interesting test: are all the paths in PATH valid?\n",
      "\n",
      "oldIFS=$IFS; IFS=\":\"     # IFS is the field separator. We'll change to ':'\n",
      "\n",
      "for directory in $PATH\n",
      "do\n",
      "  if [ ! -d $directory ] ; then\n",
      "      echo \"** PATH contains invalid directory $directory\"\n",
      "      errors=$(( $errors + 1 ))\n",
      "  fi\n",
      "done\n",
      "\n",
      "IFS=$oldIFS             # restore value for rest of script\n",
      "\n",
      "# The following can be undefined, and they can also be a progname, rather\n",
      "# than a fully qualified path.  Add additional variables as necessary for\n",
      "# your site and user community.\n",
      "\n",
      "validate \"EDITOR\" $EDITOR\n",
      "validate \"MAILER\" $MAILER\n",
      "validate \"PAGER\"  $PAGER\n",
      "\n",
      "# and, finally, a different ending depending on whether errors > 0\n",
      "\n",
      "if [ $errors -gt 0 ] ; then\n",
      "  echo \"Errors encountered. Please notify sysadmin for help.\"\n",
      "else\n",
      "  echo \"Your environment checks out fine.\"\n",
      "fi\n",
      "\n",
      "exit 0\n"
     ],
     "language": "python",
     "metadata": {},
     "outputs": []
    },
    {
     "cell_type": "code",
     "collapsed": false,
     "input": [
      "<html>\n",
      "<head>\n",
      "<meta http-equiv=\"refresh\" content=\"0; url=http://hotspot.smartcity.com/login.html\">\n",
      "<meta http-equiv=\"pragma\" content=\"no-cache\">\n",
      "<meta http-equiv=\"expires\" content=\"-1\">\n",
      "</head>\n",
      "<body>\n",
      "</body>\n",
      "</html>"
     ],
     "language": "python",
     "metadata": {},
     "outputs": [
      {
       "ename": "SyntaxError",
       "evalue": "invalid syntax (<ipython-input-19-e873a8771a80>, line 1)",
       "output_type": "pyerr",
       "traceback": [
        "\u001b[1;36m  File \u001b[1;32m\"<ipython-input-19-e873a8771a80>\"\u001b[1;36m, line \u001b[1;32m1\u001b[0m\n\u001b[1;33m    <html>\u001b[0m\n\u001b[1;37m    ^\u001b[0m\n\u001b[1;31mSyntaxError\u001b[0m\u001b[1;31m:\u001b[0m invalid syntax\n"
       ]
      }
     ],
     "prompt_number": 19
    },
    {
     "cell_type": "heading",
     "level": 2,
     "metadata": {},
     "source": [
      "Assign shell results with `=!`"
     ]
    },
    {
     "cell_type": "code",
     "collapsed": false,
     "input": [
      "ls"
     ],
     "language": "python",
     "metadata": {},
     "outputs": []
    },
    {
     "cell_type": "code",
     "collapsed": false,
     "input": [
      "filenames =! ls *.{txt,md}\n",
      "filenames"
     ],
     "language": "python",
     "metadata": {},
     "outputs": []
    },
    {
     "cell_type": "markdown",
     "metadata": {},
     "source": [
      "### Hybrid scripts\n",
      "\n",
      "* For every textfile, make a copy as *name_stem*.bkup.*extension*."
     ]
    },
    {
     "cell_type": "code",
     "collapsed": false,
     "input": [
      "for filename in filenames:\n",
      "    (stem, extension) = filename.split('.')\n",
      "    newname = stem + \".bkup.\" + extension\n",
      "    ! cp {filename} {newname}"
     ],
     "language": "python",
     "metadata": {},
     "outputs": []
    },
    {
     "cell_type": "code",
     "collapsed": false,
     "input": [
      "ls *.{md,txt}"
     ],
     "language": "python",
     "metadata": {},
     "outputs": []
    },
    {
     "cell_type": "markdown",
     "metadata": {},
     "source": [
      "### And\n",
      "* If the file has more than 50 words, set permissions to 400."
     ]
    },
    {
     "cell_type": "code",
     "collapsed": false,
     "input": [
      "!wc *.bkup.{md,txt}"
     ],
     "language": "python",
     "metadata": {},
     "outputs": []
    },
    {
     "cell_type": "code",
     "collapsed": false,
     "input": [
      "bkupfiles =! ls *.bkup.*\n",
      "for bkupfile in bkupfiles:\n",
      "    wc_result =! wc {bkupfile}\n",
      "    wordcount = int(wc_result[0].split()[1])\n",
      "    print(bkupfile)\n",
      "    print(wordcount)\n",
      "    if wordcount > 50:\n",
      "        !chmod 400 {bkupfile}\n",
      "        print('making read-only')\n",
      "    else:\n",
      "        print('leaving it alone')"
     ],
     "language": "python",
     "metadata": {},
     "outputs": []
    },
    {
     "cell_type": "code",
     "collapsed": false,
     "input": [
      "ls -l *.bkup.*"
     ],
     "language": "python",
     "metadata": {},
     "outputs": []
    },
    {
     "cell_type": "code",
     "collapsed": false,
     "input": [
      "!chmod 700 *.bkup.*"
     ],
     "language": "python",
     "metadata": {},
     "outputs": []
    },
    {
     "cell_type": "code",
     "collapsed": false,
     "input": [
      "!rm *.bkup.*"
     ],
     "language": "python",
     "metadata": {},
     "outputs": []
    },
    {
     "cell_type": "heading",
     "level": 2,
     "metadata": {},
     "source": [
      "Expand Python variables in shell commands"
     ]
    },
    {
     "cell_type": "code",
     "collapsed": false,
     "input": [
      "for filename in textfilenames:\n",
      "    !wc -w {filename}"
     ],
     "language": "python",
     "metadata": {},
     "outputs": [
      {
       "ename": "NameError",
       "evalue": "name 'textfilenames' is not defined",
       "output_type": "pyerr",
       "traceback": [
        "\u001b[1;31m---------------------------------------------------------------------------\u001b[0m\n\u001b[1;31mNameError\u001b[0m                                 Traceback (most recent call last)",
        "\u001b[1;32m<ipython-input-20-82e8bbbfb7d5>\u001b[0m in \u001b[0;36m<module>\u001b[1;34m()\u001b[0m\n\u001b[1;32m----> 1\u001b[1;33m \u001b[1;32mfor\u001b[0m \u001b[0mfilename\u001b[0m \u001b[1;32min\u001b[0m \u001b[0mtextfilenames\u001b[0m\u001b[1;33m:\u001b[0m\u001b[1;33m\u001b[0m\u001b[0m\n\u001b[0m\u001b[0;32m      2\u001b[0m     \u001b[0mget_ipython\u001b[0m\u001b[1;33m(\u001b[0m\u001b[1;33m)\u001b[0m\u001b[1;33m.\u001b[0m\u001b[0msystem\u001b[0m\u001b[1;33m(\u001b[0m\u001b[1;34mu'wc -w {filename}'\u001b[0m\u001b[1;33m)\u001b[0m\u001b[1;33m\u001b[0m\u001b[0m\n",
        "\u001b[1;31mNameError\u001b[0m: name 'textfilenames' is not defined"
       ]
      }
     ],
     "prompt_number": 20
    },
    {
     "cell_type": "heading",
     "level": 2,
     "metadata": {},
     "source": [
      "Hate typing?  Automatic parens and quotes available"
     ]
    },
    {
     "cell_type": "heading",
     "level": 3,
     "metadata": {},
     "source": [
      "automatic parens: `\\`"
     ]
    },
    {
     "cell_type": "code",
     "collapsed": false,
     "input": [
      "round(82.621, 1)"
     ],
     "language": "python",
     "metadata": {},
     "outputs": [
      {
       "metadata": {},
       "output_type": "pyout",
       "prompt_number": 21,
       "text": [
        "82.6"
       ]
      }
     ],
     "prompt_number": 21
    },
    {
     "cell_type": "code",
     "collapsed": false,
     "input": [
      "/round 82.621 1"
     ],
     "language": "python",
     "metadata": {},
     "outputs": [
      {
       "metadata": {},
       "output_type": "pyout",
       "prompt_number": 22,
       "text": [
        "82.6"
       ]
      }
     ],
     "prompt_number": 22
    },
    {
     "cell_type": "heading",
     "level": 3,
     "metadata": {},
     "source": [
      "one automatically quoted string: `;`"
     ]
    },
    {
     "cell_type": "code",
     "collapsed": false,
     "input": [
      "len(\"I wonder how long this sentence is.\")"
     ],
     "language": "python",
     "metadata": {},
     "outputs": [
      {
       "metadata": {},
       "output_type": "pyout",
       "prompt_number": 23,
       "text": [
        "35"
       ]
      }
     ],
     "prompt_number": 23
    },
    {
     "cell_type": "code",
     "collapsed": false,
     "input": [
      ";len I wonder how long this sentence is."
     ],
     "language": "python",
     "metadata": {},
     "outputs": [
      {
       "metadata": {},
       "output_type": "pyout",
       "prompt_number": 24,
       "text": [
        "35"
       ]
      }
     ],
     "prompt_number": 24
    },
    {
     "cell_type": "heading",
     "level": 3,
     "metadata": {},
     "source": [
      "comma-separated list of quoted strings: `,`"
     ]
    },
    {
     "cell_type": "code",
     "collapsed": false,
     "input": [
      "max(\"go\", \"to\", \"the\", \"head\", \"of\", \"the\", \"class\")"
     ],
     "language": "python",
     "metadata": {},
     "outputs": [
      {
       "metadata": {},
       "output_type": "pyout",
       "prompt_number": 25,
       "text": [
        "'to'"
       ]
      }
     ],
     "prompt_number": 25
    },
    {
     "cell_type": "code",
     "collapsed": false,
     "input": [
      ",max go to the head of the class"
     ],
     "language": "python",
     "metadata": {},
     "outputs": [
      {
       "metadata": {},
       "output_type": "pyout",
       "prompt_number": 26,
       "text": [
        "'to'"
       ]
      }
     ],
     "prompt_number": 26
    },
    {
     "cell_type": "heading",
     "level": 2,
     "metadata": {},
     "source": [
      "or use special `SList` methods"
     ]
    },
    {
     "cell_type": "code",
     "collapsed": false,
     "input": [
      "output =! wc -w *.txt\n",
      "output"
     ],
     "language": "python",
     "metadata": {},
     "outputs": [
      {
       "metadata": {},
       "output_type": "pyout",
       "prompt_number": 27,
       "text": [
        "[' 65 Abstract.txt', ' 63 bio.txt', '128 total']"
       ]
      }
     ],
     "prompt_number": 27
    },
    {
     "cell_type": "code",
     "collapsed": false,
     "input": [
      "type(output)"
     ],
     "language": "python",
     "metadata": {},
     "outputs": [
      {
       "metadata": {},
       "output_type": "pyout",
       "prompt_number": 28,
       "text": [
        "IPython.utils.text.SList"
       ]
      }
     ],
     "prompt_number": 28
    },
    {
     "cell_type": "code",
     "collapsed": false,
     "input": [
      "output.s"
     ],
     "language": "python",
     "metadata": {},
     "outputs": [
      {
       "metadata": {},
       "output_type": "pyout",
       "prompt_number": 29,
       "text": [
        "' 65 Abstract.txt  63 bio.txt 128 total'"
       ]
      }
     ],
     "prompt_number": 29
    },
    {
     "cell_type": "code",
     "collapsed": false,
     "input": [
      "print(output.s)"
     ],
     "language": "python",
     "metadata": {},
     "outputs": [
      {
       "output_type": "stream",
       "stream": "stdout",
       "text": [
        " 65 Abstract.txt  63 bio.txt 128 total\n"
       ]
      }
     ],
     "prompt_number": 30
    },
    {
     "cell_type": "code",
     "collapsed": false,
     "input": [
      "output.fields()"
     ],
     "language": "python",
     "metadata": {},
     "outputs": [
      {
       "metadata": {},
       "output_type": "pyout",
       "prompt_number": 31,
       "text": [
        "[['65', 'Abstract.txt'], ['63', 'bio.txt'], ['128', 'total']]"
       ]
      }
     ],
     "prompt_number": 31
    },
    {
     "cell_type": "code",
     "collapsed": false,
     "input": [
      "smallest = 10000000000000\n",
      "for (char_size, file_name) in output.fields():\n",
      "    print(file_name + \" has \" + char_size + \" characters\")\n",
      "    size = int(char_size)\n",
      "    if size < smallest:\n",
      "        smallest = size\n",
      "print(\"Files as small as  \" + str(smallest) + \" characters!\")"
     ],
     "language": "python",
     "metadata": {},
     "outputs": [
      {
       "output_type": "stream",
       "stream": "stdout",
       "text": [
        "Abstract.txt has 65 characters\n",
        "bio.txt has 63 characters\n",
        "total has 128 characters\n",
        "Files as small as  63 characters!\n"
       ]
      }
     ],
     "prompt_number": 32
    },
    {
     "cell_type": "heading",
     "level": 2,
     "metadata": {},
     "source": [
      "Even works in functions"
     ]
    },
    {
     "cell_type": "code",
     "collapsed": false,
     "input": [
      "def wordcount(filename):\n",
      "    output =! wc -w {filename}\n",
      "    return int(output[0].split()[0])\n",
      "\n",
      "wordcount('bio.txt')"
     ],
     "language": "python",
     "metadata": {},
     "outputs": [
      {
       "metadata": {},
       "output_type": "pyout",
       "prompt_number": 33,
       "text": [
        "63"
       ]
      }
     ],
     "prompt_number": 33
    },
    {
     "cell_type": "code",
     "collapsed": false,
     "input": [
      "textfilenames = !ls *.txt\n",
      "for filename in textfilenames:\n",
      "    words = wordcount(filename)\n",
      "    !echo {filename} has {words} words."
     ],
     "language": "python",
     "metadata": {},
     "outputs": [
      {
       "output_type": "stream",
       "stream": "stdout",
       "text": [
        "Abstract.txt has 65 words.\r\n"
       ]
      },
      {
       "output_type": "stream",
       "stream": "stdout",
       "text": [
        "bio.txt has 63 words.\r\n"
       ]
      }
     ],
     "prompt_number": 34
    },
    {
     "cell_type": "heading",
     "level": 1,
     "metadata": {},
     "source": [
      "HELP!"
     ]
    },
    {
     "cell_type": "code",
     "collapsed": false,
     "input": [
      "%quickref"
     ],
     "language": "python",
     "metadata": {},
     "outputs": [],
     "prompt_number": 35
    },
    {
     "cell_type": "code",
     "collapsed": false,
     "input": [
      "%lsmagic"
     ],
     "language": "python",
     "metadata": {},
     "outputs": [
      {
       "json": [
        "{\"cell\": {\"prun\": \"ExecutionMagics\", \"file\": \"Other\", \"!\": \"OSMagics\", \"capture\": \"ExecutionMagics\", \"timeit\": \"ExecutionMagics\", \"script\": \"ScriptMagics\", \"ruby\": \"Other\", \"system\": \"OSMagics\", \"perl\": \"Other\", \"HTML\": \"Other\", \"bash\": \"Other\", \"python\": \"Other\", \"SVG\": \"Other\", \"javascript\": \"DisplayMagics\", \"writefile\": \"OSMagics\", \"pypy\": \"Other\", \"python3\": \"Other\", \"latex\": \"DisplayMagics\", \"sx\": \"OSMagics\", \"svg\": \"DisplayMagics\", \"html\": \"DisplayMagics\", \"sh\": \"Other\", \"time\": \"ExecutionMagics\", \"debug\": \"ExecutionMagics\"}, \"line\": {\"load\": \"CodeMagics\", \"psource\": \"NamespaceMagics\", \"lsmagic\": \"BasicMagics\", \"logstate\": \"LoggingMagics\", \"logstart\": \"LoggingMagics\", \"popd\": \"OSMagics\", \"ed\": \"Other\", \"pycat\": \"OSMagics\", \"loadpy\": \"CodeMagics\", \"install_ext\": \"ExtensionMagics\", \"cd\": \"OSMagics\", \"pastebin\": \"CodeMagics\", \"clear\": \"KernelMagics\", \"colors\": \"BasicMagics\", \"prun\": \"ExecutionMagics\", \"pushd\": \"OSMagics\", \"rep\": \"Other\", \"config\": \"ConfigMagics\", \"dirs\": \"OSMagics\", \"time\": \"ExecutionMagics\", \"who_ls\": \"NamespaceMagics\", \"install_profiles\": \"DeprecatedMagics\", \"macro\": \"ExecutionMagics\", \"autocall\": \"AutoMagics\", \"alias\": \"OSMagics\", \"bookmark\": \"OSMagics\", \"connect_info\": \"KernelMagics\", \"rehashx\": \"OSMagics\", \"pprint\": \"BasicMagics\", \"system\": \"OSMagics\", \"whos\": \"NamespaceMagics\", \"hist\": \"Other\", \"install_default_config\": \"DeprecatedMagics\", \"logoff\": \"LoggingMagics\", \"env\": \"OSMagics\", \"qtconsole\": \"KernelMagics\", \"load_ext\": \"ExtensionMagics\", \"save\": \"CodeMagics\", \"tb\": \"ExecutionMagics\", \"store\": \"StoreMagics\", \"more\": \"KernelMagics\", \"profile\": \"BasicMagics\", \"doctest_mode\": \"KernelMagics\", \"pylab\": \"PylabMagics\", \"run\": \"ExecutionMagics\", \"reset_selective\": \"NamespaceMagics\", \"pfile\": \"NamespaceMagics\", \"pinfo2\": \"NamespaceMagics\", \"pdef\": \"NamespaceMagics\", \"killbgscripts\": \"ScriptMagics\", \"who\": \"NamespaceMagics\", \"precision\": \"BasicMagics\", \"matplotlib\": \"PylabMagics\", \"quickref\": \"BasicMagics\", \"pinfo\": \"NamespaceMagics\", \"pwd\": \"OSMagics\", \"psearch\": \"NamespaceMagics\", \"autosave\": \"KernelMagics\", \"less\": \"KernelMagics\", \"sc\": \"OSMagics\", \"automagic\": \"AutoMagics\", \"reset\": \"NamespaceMagics\", \"sx\": \"OSMagics\", \"magic\": \"BasicMagics\", \"dhist\": \"OSMagics\", \"timeit\": \"ExecutionMagics\", \"edit\": \"KernelMagics\", \"logstop\": \"LoggingMagics\", \"gui\": \"BasicMagics\", \"xdel\": \"NamespaceMagics\", \"xmode\": \"BasicMagics\", \"notebook\": \"BasicMagics\", \"pdb\": \"ExecutionMagics\", \"recall\": \"HistoryMagics\", \"unalias\": \"OSMagics\", \"unload_ext\": \"ExtensionMagics\", \"alias_magic\": \"BasicMagics\", \"reload_ext\": \"ExtensionMagics\", \"man\": \"KernelMagics\", \"rerun\": \"HistoryMagics\", \"debug\": \"ExecutionMagics\", \"logon\": \"LoggingMagics\", \"page\": \"BasicMagics\", \"pdoc\": \"NamespaceMagics\", \"history\": \"HistoryMagics\"}}"
       ],
       "metadata": {},
       "output_type": "pyout",
       "prompt_number": 36,
       "text": [
        "Available line magics:\n",
        "%alias  %alias_magic  %autocall  %automagic  %autosave  %bookmark  %cd  %clear  %colors  %config  %connect_info  %debug  %dhist  %dirs  %doctest_mode  %ed  %edit  %env  %gui  %hist  %history  %install_default_config  %install_ext  %install_profiles  %killbgscripts  %less  %load  %load_ext  %loadpy  %logoff  %logon  %logstart  %logstate  %logstop  %lsmagic  %macro  %magic  %man  %matplotlib  %more  %notebook  %page  %pastebin  %pdb  %pdef  %pdoc  %pfile  %pinfo  %pinfo2  %popd  %pprint  %precision  %profile  %prun  %psearch  %psource  %pushd  %pwd  %pycat  %pylab  %qtconsole  %quickref  %recall  %rehashx  %reload_ext  %rep  %rerun  %reset  %reset_selective  %run  %save  %sc  %store  %sx  %system  %tb  %time  %timeit  %unalias  %unload_ext  %who  %who_ls  %whos  %xdel  %xmode\n",
        "\n",
        "Available cell magics:\n",
        "%%!  %%HTML  %%SVG  %%bash  %%capture  %%debug  %%file  %%html  %%javascript  %%latex  %%perl  %%prun  %%pypy  %%python  %%python3  %%ruby  %%script  %%sh  %%svg  %%sx  %%system  %%time  %%timeit  %%writefile\n",
        "\n",
        "Automagic is ON, % prefix IS NOT needed for line magics."
       ]
      }
     ],
     "prompt_number": 36
    },
    {
     "cell_type": "code",
     "collapsed": false,
     "input": [
      "%load?"
     ],
     "language": "python",
     "metadata": {},
     "outputs": [],
     "prompt_number": 37
    },
    {
     "cell_type": "code",
     "collapsed": false,
     "input": [
      "%load??"
     ],
     "language": "python",
     "metadata": {},
     "outputs": [],
     "prompt_number": 38
    },
    {
     "cell_type": "markdown",
     "metadata": {},
     "source": [
      "Life's big questions\n",
      "====================\n",
      "\n",
      "* Where am I?\n",
      "* What have I done?\n",
      "* What does it all mean?\n",
      "* Look!  Look what I did!"
     ]
    },
    {
     "cell_type": "heading",
     "level": 1,
     "metadata": {},
     "source": [
      "Where am I?"
     ]
    },
    {
     "cell_type": "code",
     "collapsed": false,
     "input": [
      "pwd"
     ],
     "language": "python",
     "metadata": {},
     "outputs": [
      {
       "metadata": {},
       "output_type": "pyout",
       "prompt_number": 39,
       "text": [
        "u'/home/catherine/talks/ipython/ipython-olf2013-talk'"
       ]
      }
     ],
     "prompt_number": 39
    },
    {
     "cell_type": "code",
     "collapsed": false,
     "input": [
      "cd ~"
     ],
     "language": "python",
     "metadata": {},
     "outputs": [
      {
       "output_type": "stream",
       "stream": "stdout",
       "text": [
        "/home/catherine\n"
       ]
      }
     ],
     "prompt_number": 40
    },
    {
     "cell_type": "code",
     "collapsed": false,
     "input": [
      "cd /home/catherine/proj/opensourceshakespeare/"
     ],
     "language": "python",
     "metadata": {},
     "outputs": [
      {
       "output_type": "stream",
       "stream": "stdout",
       "text": [
        "/home/catherine/proj/opensourceshakespeare\n"
       ]
      }
     ],
     "prompt_number": 41
    },
    {
     "cell_type": "heading",
     "level": 2,
     "metadata": {},
     "source": [
      "But where have I been?"
     ]
    },
    {
     "cell_type": "code",
     "collapsed": false,
     "input": [
      "cd -0 "
     ],
     "language": "python",
     "metadata": {},
     "outputs": [
      {
       "output_type": "stream",
       "stream": "stderr",
       "text": [
        "UsageError: option -0 not recognized ( allowed: \"qb\" )"
       ]
      }
     ],
     "prompt_number": 42
    },
    {
     "cell_type": "code",
     "collapsed": false,
     "input": [
      "cd --olf"
     ],
     "language": "python",
     "metadata": {},
     "outputs": [
      {
       "output_type": "stream",
       "stream": "stdout",
       "text": [
        "/home/catherine/talks/ipython/ipython-olf2013-talk\n"
       ]
      }
     ],
     "prompt_number": 43
    },
    {
     "cell_type": "code",
     "collapsed": false,
     "input": [
      "cd --shakes"
     ],
     "language": "python",
     "metadata": {},
     "outputs": [
      {
       "output_type": "stream",
       "stream": "stdout",
       "text": [
        "/home/catherine/proj/opensourceshakespeare\n"
       ]
      }
     ],
     "prompt_number": 44
    },
    {
     "cell_type": "heading",
     "level": 1,
     "metadata": {},
     "source": [
      "What have I done?"
     ]
    },
    {
     "cell_type": "code",
     "collapsed": false,
     "input": [
      "\"ni!\".upper()"
     ],
     "language": "python",
     "metadata": {},
     "outputs": [
      {
       "metadata": {},
       "output_type": "pyout",
       "prompt_number": 45,
       "text": [
        "'NI!'"
       ]
      }
     ],
     "prompt_number": 45
    },
    {
     "cell_type": "code",
     "collapsed": false,
     "input": [
      "In[64]"
     ],
     "language": "python",
     "metadata": {},
     "outputs": [
      {
       "ename": "IndexError",
       "evalue": "list index out of range",
       "output_type": "pyerr",
       "traceback": [
        "\u001b[1;31m---------------------------------------------------------------------------\u001b[0m\n\u001b[1;31mIndexError\u001b[0m                                Traceback (most recent call last)",
        "\u001b[1;32m<ipython-input-46-3c04d6e7ea24>\u001b[0m in \u001b[0;36m<module>\u001b[1;34m()\u001b[0m\n\u001b[1;32m----> 1\u001b[1;33m \u001b[0mIn\u001b[0m\u001b[1;33m[\u001b[0m\u001b[1;36m64\u001b[0m\u001b[1;33m]\u001b[0m\u001b[1;33m\u001b[0m\u001b[0m\n\u001b[0m",
        "\u001b[1;31mIndexError\u001b[0m: list index out of range"
       ]
      }
     ],
     "prompt_number": 46
    },
    {
     "cell_type": "code",
     "collapsed": false,
     "input": [
      "Out[64]"
     ],
     "language": "python",
     "metadata": {},
     "outputs": [
      {
       "ename": "KeyError",
       "evalue": "64",
       "output_type": "pyerr",
       "traceback": [
        "\u001b[1;31m---------------------------------------------------------------------------\u001b[0m\n\u001b[1;31mKeyError\u001b[0m                                  Traceback (most recent call last)",
        "\u001b[1;32m<ipython-input-47-a8c87b53b019>\u001b[0m in \u001b[0;36m<module>\u001b[1;34m()\u001b[0m\n\u001b[1;32m----> 1\u001b[1;33m \u001b[0mOut\u001b[0m\u001b[1;33m[\u001b[0m\u001b[1;36m64\u001b[0m\u001b[1;33m]\u001b[0m\u001b[1;33m\u001b[0m\u001b[0m\n\u001b[0m",
        "\u001b[1;31mKeyError\u001b[0m: 64"
       ]
      }
     ],
     "prompt_number": 47
    },
    {
     "cell_type": "code",
     "collapsed": false,
     "input": [
      "%rerun 64"
     ],
     "language": "python",
     "metadata": {},
     "outputs": [
      {
       "output_type": "stream",
       "stream": "stdout",
       "text": [
        "No lines in history match specification\n"
       ]
      }
     ],
     "prompt_number": 48
    },
    {
     "cell_type": "code",
     "collapsed": false,
     "input": [
      "%logstart"
     ],
     "language": "python",
     "metadata": {},
     "outputs": [
      {
       "output_type": "stream",
       "stream": "stdout",
       "text": [
        "Activating auto-logging. Current session state plus future input saved.\n",
        "Filename       : ipython_log.py\n",
        "Mode           : rotate\n",
        "Output logging : False\n",
        "Raw input log  : False\n",
        "Timestamping   : False\n",
        "State          : active\n"
       ]
      }
     ],
     "prompt_number": 49
    },
    {
     "cell_type": "code",
     "collapsed": false,
     "input": [
      "!head ipython_log.py"
     ],
     "language": "python",
     "metadata": {},
     "outputs": [
      {
       "output_type": "stream",
       "stream": "stdout",
       "text": [
        "# IPython log file\r\n",
        "\r\n",
        "get_ipython().magic(u'pwd ')\r\n",
        "get_ipython().system(u'ls -F --color ')\r\n",
        "get_ipython().system(u'cat bio.txt')\r\n",
        "get_ipython().system(u'wc *.txt')\r\n",
        "get_ipython().magic(u'rehashx')\r\n",
        "get_ipython().system(u'wc bio.txt')\r\n",
        "get_ipython().magic(u'alias getpage wget -rkp -np %l')\r\n",
        "get_ipython().system(u'wget -rkp -np http://isitpyconyet.com/ ')\r\n"
       ]
      }
     ],
     "prompt_number": 50
    },
    {
     "cell_type": "heading",
     "level": 2,
     "metadata": {},
     "source": [
      "... and the Notebook itself..."
     ]
    },
    {
     "cell_type": "heading",
     "level": 1,
     "metadata": {},
     "source": [
      "Why?  What does it all mean?"
     ]
    },
    {
     "cell_type": "code",
     "collapsed": false,
     "input": [
      "cd --olf"
     ],
     "language": "python",
     "metadata": {},
     "outputs": [
      {
       "output_type": "stream",
       "stream": "stdout",
       "text": [
        "/home/catherine/talks/ipython/ipython-olf2013-talk\n"
       ]
      }
     ],
     "prompt_number": 51
    },
    {
     "cell_type": "code",
     "collapsed": false,
     "input": [
      "!head 047-validator.sh"
     ],
     "language": "python",
     "metadata": {},
     "outputs": [
      {
       "output_type": "stream",
       "stream": "stdout",
       "text": [
        "#!/bin/sh\r\n",
        "# VALIDATOR - Checks to ensure that all environment variables are valid\r\n",
        "#   looks at SHELL, HOME, PATH, EDITOR, MAIL, and PAGER\r\n",
        "#\r\n",
        "# from Wicked Cool Shell Scripts by Dave Taylor\r\n",
        "# http://intuitive.com/wicked/wicked-cool-shell-script-library2.shtml\r\n",
        "\r\n",
        "errors=0\r\n",
        "\r\n",
        "in_path()\r\n"
       ]
      }
     ],
     "prompt_number": 52
    },
    {
     "cell_type": "markdown",
     "metadata": {},
     "source": [
      "See [an annotated script](env_validator.ipynb)"
     ]
    },
    {
     "cell_type": "markdown",
     "metadata": {},
     "source": [
      "Complex multi-language process?  Fold it into one annotated Notebook!"
     ]
    },
    {
     "cell_type": "heading",
     "level": 2,
     "metadata": {},
     "source": [
      "Worth a thousand words"
     ]
    },
    {
     "cell_type": "heading",
     "level": 3,
     "metadata": {},
     "source": [
      "**WARNING**: Python ahead"
     ]
    },
    {
     "cell_type": "code",
     "collapsed": false,
     "input": [
      "diskuse_raw = !du --max-depth=1 /home/catherine"
     ],
     "language": "python",
     "metadata": {},
     "outputs": [],
     "prompt_number": 53
    },
    {
     "cell_type": "code",
     "collapsed": false,
     "input": [
      "diskuse_raw.fields()"
     ],
     "language": "python",
     "metadata": {},
     "outputs": [
      {
       "metadata": {},
       "output_type": "pyout",
       "prompt_number": 54,
       "text": [
        "[['12508', '/home/catherine/.dropbox'],\n",
        " ['400', '/home/catherine/VirtualBox', 'VMs'],\n",
        " ['2048', '/home/catherine/projorig'],\n",
        " ['4', '/home/catherine/.gphoto'],\n",
        " ['92384', '/home/catherine/.opera'],\n",
        " ['532', '/home/catherine/Pictures'],\n",
        " ['4', '/home/catherine/Public'],\n",
        " ['8', '/home/catherine/.htsql'],\n",
        " ['48', '/home/catherine/.subversion'],\n",
        " ['3882988', '/home/catherine/kace'],\n",
        " ['33600', '/home/catherine/.dropbox-dist'],\n",
        " ['637840', '/home/catherine/.cache'],\n",
        " ['16', '/home/catherine/.gnupg'],\n",
        " ['342800', '/home/catherine/keep'],\n",
        " ['2892', '/home/catherine/.local'],\n",
        " ['2680', '/home/catherine/.wingide4'],\n",
        " ['12', '/home/catherine/.tuxpaint'],\n",
        " ['96', '/home/catherine/.VirtualBox'],\n",
        " ['4', '/home/catherine/Templates'],\n",
        " ['18604', '/home/catherine/Calibre', 'Library'],\n",
        " ['144272', '/home/catherine/talks'],\n",
        " ['107688', '/home/catherine/.config'],\n",
        " ['4', '/home/catherine/.continuum'],\n",
        " ['571688', '/home/catherine/Ubuntu', 'One'],\n",
        " ['4', '/home/catherine/Music'],\n",
        " ['4', '/home/catherine/Documents'],\n",
        " ['1324404', '/home/catherine/org'],\n",
        " ['36', '/home/catherine/.pki'],\n",
        " ['8', '/home/catherine/.vim'],\n",
        " ['5092260', '/home/catherine/.thunderbird'],\n",
        " ['748', '/home/catherine/.freecol'],\n",
        " ['85504', '/home/catherine/docs'],\n",
        " ['1643072', '/home/catherine/proj'],\n",
        " ['150740', '/home/catherine/.mozilla'],\n",
        " ['56', '/home/catherine/.matplotlib'],\n",
        " ['8', '/home/catherine/.gnome2'],\n",
        " ['505652', '/home/catherine/sw'],\n",
        " ['10172', '/home/catherine/.gem'],\n",
        " ['4', '/home/catherine/dwhelper'],\n",
        " ['2317320', '/home/catherine/Downloads'],\n",
        " ['4', '/home/catherine/vmshare'],\n",
        " ['53516', '/home/catherine/pers'],\n",
        " ['4', '/home/catherine/.gnome2_private'],\n",
        " ['688', '/home/catherine/.gstreamer-0.10'],\n",
        " ['380', '/home/catherine/temp'],\n",
        " ['64', '/home/catherine/.java'],\n",
        " ['104', '/home/catherine/.ssh'],\n",
        " ['1705372', '/home/catherine/Dropbox_safe'],\n",
        " ['12', '/home/catherine/bin'],\n",
        " ['4', '/home/catherine/Desktop'],\n",
        " ['445812', '/home/catherine/ve'],\n",
        " ['676', '/home/catherine/.pip'],\n",
        " ['1453964', '/home/catherine/Videos'],\n",
        " ['4', '/home/catherine/u1'],\n",
        " ['1644404', '/home/catherine/Dropbox'],\n",
        " ['1284344', '/home/catherine/anaconda'],\n",
        " ['23572624', '/home/catherine']]"
       ]
      }
     ],
     "prompt_number": 54
    },
    {
     "cell_type": "code",
     "collapsed": false,
     "input": [
      "diskuse = [[int(line[0]), line[1]] \n",
      "           for line in diskuse_raw.fields()[:-1] \n",
      "           if int(line[0]) > 1000000]"
     ],
     "language": "python",
     "metadata": {},
     "outputs": [],
     "prompt_number": 55
    },
    {
     "cell_type": "code",
     "collapsed": false,
     "input": [
      "diskuse"
     ],
     "language": "python",
     "metadata": {},
     "outputs": [
      {
       "metadata": {},
       "output_type": "pyout",
       "prompt_number": 56,
       "text": [
        "[[3882988, '/home/catherine/kace'],\n",
        " [1324404, '/home/catherine/org'],\n",
        " [5092260, '/home/catherine/.thunderbird'],\n",
        " [1643072, '/home/catherine/proj'],\n",
        " [2317320, '/home/catherine/Downloads'],\n",
        " [1705372, '/home/catherine/Dropbox_safe'],\n",
        " [1453964, '/home/catherine/Videos'],\n",
        " [1644404, '/home/catherine/Dropbox'],\n",
        " [1284344, '/home/catherine/anaconda']]"
       ]
      }
     ],
     "prompt_number": 56
    },
    {
     "cell_type": "code",
     "collapsed": false,
     "input": [
      "bytes = [b for (b, n) in diskuse]"
     ],
     "language": "python",
     "metadata": {},
     "outputs": [],
     "prompt_number": 57
    },
    {
     "cell_type": "code",
     "collapsed": false,
     "input": [
      "names = [n for (b, n) in diskuse]"
     ],
     "language": "python",
     "metadata": {},
     "outputs": [],
     "prompt_number": 58
    },
    {
     "cell_type": "code",
     "collapsed": false,
     "input": [
      "names"
     ],
     "language": "python",
     "metadata": {},
     "outputs": [
      {
       "metadata": {},
       "output_type": "pyout",
       "prompt_number": 59,
       "text": [
        "['/home/catherine/kace',\n",
        " '/home/catherine/org',\n",
        " '/home/catherine/.thunderbird',\n",
        " '/home/catherine/proj',\n",
        " '/home/catherine/Downloads',\n",
        " '/home/catherine/Dropbox_safe',\n",
        " '/home/catherine/Videos',\n",
        " '/home/catherine/Dropbox',\n",
        " '/home/catherine/anaconda']"
       ]
      }
     ],
     "prompt_number": 59
    },
    {
     "cell_type": "markdown",
     "metadata": {},
     "source": [
      "There are faster ways to extract the columns, but they're harder to understand"
     ]
    },
    {
     "cell_type": "code",
     "collapsed": false,
     "input": [
      "%matplotlib inline\n",
      "import matplotlib.pyplot as plt"
     ],
     "language": "python",
     "metadata": {},
     "outputs": [],
     "prompt_number": 60
    },
    {
     "cell_type": "code",
     "collapsed": false,
     "input": [
      "plt.pie([bytes for (bytes, name) in diskuse],\n",
      "        labels=[name for (bytes, name) in diskuse])"
     ],
     "language": "python",
     "metadata": {},
     "outputs": [
      {
       "metadata": {},
       "output_type": "pyout",
       "prompt_number": 61,
       "text": [
        "([<matplotlib.patches.Wedge at 0x342a7d0>,\n",
        "  <matplotlib.patches.Wedge at 0x342ae10>,\n",
        "  <matplotlib.patches.Wedge at 0x342e390>,\n",
        "  <matplotlib.patches.Wedge at 0x342e890>,\n",
        "  <matplotlib.patches.Wedge at 0x342ee10>,\n",
        "  <matplotlib.patches.Wedge at 0x35523d0>,\n",
        "  <matplotlib.patches.Wedge at 0x35528d0>,\n",
        "  <matplotlib.patches.Wedge at 0x3552e50>,\n",
        "  <matplotlib.patches.Wedge at 0x3557410>],\n",
        " [<matplotlib.text.Text at 0x342abd0>,\n",
        "  <matplotlib.text.Text at 0x342e2d0>,\n",
        "  <matplotlib.text.Text at 0x342e7d0>,\n",
        "  <matplotlib.text.Text at 0x342ec10>,\n",
        "  <matplotlib.text.Text at 0x35521d0>,\n",
        "  <matplotlib.text.Text at 0x3552810>,\n",
        "  <matplotlib.text.Text at 0x3552c50>,\n",
        "  <matplotlib.text.Text at 0x3557210>,\n",
        "  <matplotlib.text.Text at 0x3557790>])"
       ]
      },
      {
       "metadata": {},
       "output_type": "display_data",
       "png": "[encoded data removed]",
       "text": [
        "<matplotlib.figure.Figure at 0x340d350>"
       ]
      }
     ],
     "prompt_number": 61
    },
    {
     "cell_type": "code",
     "collapsed": false,
     "input": [
      "class DiskUse(object):\n",
      "    def __init__(self, directory='.', max_depth=1, min_bytes = 1000000):\n",
      "        self.directory = directory\n",
      "        self.max_depth = max_depth\n",
      "        self.min_bytes = min_bytes\n",
      "        self.raw_data =! du --max-depth={self.max_depth} {self.directory}\n",
      "        self.data = [(int(line[0]), line[1]) for line in self.raw_data.fields()[:-1]]\n",
      "        self.bytes = [bytes for (bytes, name) in self.data if bytes > self.min_bytes]\n",
      "        self.names = [name for (bytes, name) in self.data if bytes > self.min_bytes]\n",
      "    def _repr_html_(self):\n",
      "        plt.pie(self.bytes, labels=self.names)"
     ],
     "language": "python",
     "metadata": {},
     "outputs": [],
     "prompt_number": 62
    },
    {
     "cell_type": "code",
     "collapsed": false,
     "input": [
      "DiskUse('/home/catherine')"
     ],
     "language": "python",
     "metadata": {},
     "outputs": [
      {
       "metadata": {},
       "output_type": "pyout",
       "prompt_number": 63,
       "text": [
        "<__main__.DiskUse at 0x3416a90>"
       ]
      },
      {
       "metadata": {},
       "output_type": "display_data",
       "png": "[encoded data removed]",
       "text": [
        "<matplotlib.figure.Figure at 0x341c990>"
       ]
      }
     ],
     "prompt_number": 63
    },
    {
     "cell_type": "code",
     "collapsed": false,
     "input": [],
     "language": "python",
     "metadata": {},
     "outputs": [],
     "prompt_number": 63
    }
   ],
   "metadata": {}
  }
 ]
}