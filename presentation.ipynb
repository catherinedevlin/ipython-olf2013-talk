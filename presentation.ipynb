{
 "metadata": {
  "name": ""
 },
 "nbformat": 3,
 "nbformat_minor": 0,
 "worksheets": [
  {
   "cells": [
    {
     "cell_type": "markdown",
     "metadata": {
      "slideshow": {
       "slide_type": "slide"
      }
     },
     "source": [
      "IPython for non-Pythonistas\n",
      "===========================\n",
      "\n",
      "![IPython logo, crossed-out Python logo](files/ipy-no-py.png)\n",
      "\n",
      "Catherine Devlin\n",
      "----------------\n",
      "\n",
      "Ohio LinuxFest 2013\n",
      "-------------------"
     ]
    },
    {
     "cell_type": "heading",
     "level": 1,
     "metadata": {
      "slideshow": {
       "slide_type": "slide"
      }
     },
     "source": [
      "http://spkrbar.com/talk/46/"
     ]
    },
    {
     "cell_type": "markdown",
     "metadata": {
      "slideshow": {
       "slide_type": "slide"
      }
     },
     "source": [
      "* What is IPython\n",
      "* Anything you can do, I can do better\n",
      "* Answers life's big questions\n",
      "  - Where am I?\n",
      "  - What have I done?\n",
      "  - What does it all mean?\n",
      "* Sharing your enlightenment"
     ]
    },
    {
     "cell_type": "markdown",
     "metadata": {
      "slideshow": {
       "slide_type": "slide"
      }
     },
     "source": [
      "IPython\n",
      "=======\n",
      "\n",
      "An interactive Python environment\n",
      "\n",
      "IPython Notebook\n",
      "================\n",
      "\n",
      "A web-based IPython environment"
     ]
    },
    {
     "cell_type": "markdown",
     "metadata": {
      "slideshow": {
       "slide_type": "fragment"
      }
     },
     "source": [
      "(demo)"
     ]
    },
    {
     "cell_type": "markdown",
     "metadata": {
      "slideshow": {
       "slide_type": "fragment"
      }
     },
     "source": [
      "Who cares?"
     ]
    },
    {
     "cell_type": "heading",
     "level": 1,
     "metadata": {
      "slideshow": {
       "slide_type": "slide"
      }
     },
     "source": [
      "Pythonistas care"
     ]
    },
    {
     "cell_type": "markdown",
     "metadata": {
      "slideshow": {
       "slide_type": "fragment"
      }
     },
     "source": [
      "* Awarded [2012 Free Software Award](http://www.fsf.org/news/2012-free-software-award-winners-announced-2)\n"
     ]
    },
    {
     "cell_type": "markdown",
     "metadata": {
      "slideshow": {
       "slide_type": "fragment"
      }
     },
     "source": [
      "* [Fernando Perez keynote SciIPy 2013](http://pyvideo.org/video/2136/scipy-2013-keynote-ipython-the-method-behind-th-1)"
     ]
    },
    {
     "cell_type": "markdown",
     "metadata": {
      "slideshow": {
       "slide_type": "fragment"
      }
     },
     "source": [
      "* July 2013: 1.0.dev released!"
     ]
    },
    {
     "cell_type": "heading",
     "level": 1,
     "metadata": {
      "slideshow": {
       "slide_type": "slide"
      }
     },
     "source": [
      "I don't do Python!"
     ]
    },
    {
     "cell_type": "markdown",
     "metadata": {
      "slideshow": {
       "slide_type": "fragment"
      }
     },
     "source": [
      "![IPython logo, crossed-out Python logo](files/ipy-no-py.png)"
     ]
    },
    {
     "cell_type": "heading",
     "level": 1,
     "metadata": {
      "slideshow": {
       "slide_type": "slide"
      }
     },
     "source": [
      "Anything you can do..."
     ]
    },
    {
     "cell_type": "markdown",
     "metadata": {
      "slideshow": {
       "slide_type": "fragment"
      }
     },
     "source": [
      "![IPython and BASH logos](files/ipy-vs-bash.png)"
     ]
    },
    {
     "cell_type": "heading",
     "level": 1,
     "metadata": {
      "slideshow": {
       "slide_type": "slide"
      }
     },
     "source": [
      "..."
     ]
    },
    {
     "cell_type": "heading",
     "level": 1,
     "metadata": {
      "slideshow": {
       "slide_type": "slide"
      }
     },
     "source": [
      "Share"
     ]
    },
    {
     "cell_type": "heading",
     "level": 2,
     "metadata": {
      "slideshow": {
       "slide_type": "slide"
      }
     },
     "source": [
      "Present"
     ]
    },
    {
     "cell_type": "markdown",
     "metadata": {
      "slideshow": {
       "slide_type": "fragment"
      }
     },
     "source": [
      "Select `Slideshow` in `Cell Toolbar`, then:\n",
      "\n",
      "    ipython3 nbconvert presentation.ipynb --to slides --post serve\n",
      "    \n",
      "Requires ipython 1.0"
     ]
    },
    {
     "cell_type": "heading",
     "level": 2,
     "metadata": {
      "slideshow": {
       "slide_type": "slide"
      }
     },
     "source": [
      "Blog"
     ]
    },
    {
     "cell_type": "markdown",
     "metadata": {
      "slideshow": {
       "slide_type": "fragment"
      }
     },
     "source": [
      "[Example](http://blog.fperez.org/2012/09/blogging-with-ipython-notebook.html)\n",
      "\n",
      "More examples in the [Gallery](https://github.com/ipython/ipython/wiki/A-gallery-of-interesting-IPython-Notebooks)"
     ]
    },
    {
     "cell_type": "heading",
     "level": 2,
     "metadata": {
      "slideshow": {
       "slide_type": "slide"
      }
     },
     "source": [
      "nbviewer"
     ]
    },
    {
     "cell_type": "markdown",
     "metadata": {
      "slideshow": {
       "slide_type": "fragment"
      }
     },
     "source": [
      "Every notebook is a JSON file with \".ipynb\" extension"
     ]
    },
    {
     "cell_type": "code",
     "collapsed": false,
     "input": [
      "!head presentation.ipynb"
     ],
     "language": "python",
     "metadata": {
      "slideshow": {
       "slide_type": "fragment"
      }
     },
     "outputs": [
      {
       "output_type": "stream",
       "stream": "stdout",
       "text": [
        "{\r\n",
        " \"metadata\": {\r\n",
        "  \"name\": \"\"\r\n",
        " },\r\n",
        " \"nbformat\": 3,\r\n",
        " \"nbformat_minor\": 0,\r\n",
        " \"worksheets\": [\r\n",
        "  {\r\n",
        "   \"cells\": [\r\n",
        "    {\r\n"
       ]
      }
     ],
     "prompt_number": 23
    },
    {
     "cell_type": "markdown",
     "metadata": {
      "slideshow": {
       "slide_type": "subslide"
      }
     },
     "source": [
      "* nbviewer.ipython.org/url/*.ipynb-url* serves it publicly!\n",
      "* or nbviewer.ipython.org/*gist-number*\n",
      "* downloadable"
     ]
    },
    {
     "cell_type": "markdown",
     "metadata": {
      "slideshow": {
       "slide_type": "slide"
      }
     },
     "source": [
      "#### Example: PyOhio video downloads\n",
      "\n",
      "[catherinedevlin.pythoneers.com/pyohio-videos.ipynb](http://catherinedevlin.pythoneers.com/pyohio-videos.ipynb)\n",
      "\n",
      "[nbviewer.ipython.org/url/catherinedevlin.pythoneers.com/pyohio-videos.ipynb](http://nbviewer.ipython.org/url/catherinedevlin.pythoneers.com/pyohio-videos.ipynb)\n",
      "\n",
      "[https://gist.github.com/catherinedevlin/5636516](https://gist.github.com/catherinedevlin/5636516)\n",
      "\n",
      "[http://nbviewer.ipython.org/5636516](http://nbviewer.ipython.org/5636516)"
     ]
    },
    {
     "cell_type": "heading",
     "level": 2,
     "metadata": {
      "slideshow": {
       "slide_type": "slide"
      }
     },
     "source": [
      "[wakari](https://www.wakari.io/) by Continuum Analytics"
     ]
    },
    {
     "cell_type": "markdown",
     "metadata": {
      "slideshow": {
       "slide_type": "fragment"
      }
     },
     "source": [
      "Share a [link to a workbook](https://prod-vz-7.wakari.io:9028/notebook_relative/ipython-talk-pyohio2013/presentation.ipynb)\n",
      "\n",
      "or a [link to a bundle](https://www.wakari.io/sharing/bundle/catherine_devlin/ipython-talk-pyohio2013)\n",
      "\n",
      "... and your collaborators *don't even need Python*..."
     ]
    },
    {
     "cell_type": "heading",
     "level": 2,
     "metadata": {
      "slideshow": {
       "slide_type": "slide"
      }
     },
     "source": [
      "Write"
     ]
    },
    {
     "cell_type": "markdown",
     "metadata": {
      "slideshow": {
       "slide_type": "fragment"
      }
     },
     "source": [
      "[Probablistic Programming & Bayesian Methods for Hackers](http://camdavidsonpilon.github.io/Probabilistic-Programming-and-Bayesian-Methods-for-Hackers/) by  Cameron Davidson-Pilon"
     ]
    },
    {
     "cell_type": "heading",
     "level": 1,
     "metadata": {
      "slideshow": {
       "slide_type": "slide"
      }
     },
     "source": [
      "Installation"
     ]
    },
    {
     "cell_type": "markdown",
     "metadata": {
      "slideshow": {
       "slide_type": "fragment"
      }
     },
     "source": [
      "* Present in all common Linux repositories\n",
      "* Pythonheads: `pip install ipython tornado pyzmq` (ideally from a virtualenv)\n",
      "* Best for matplotlib: [Anaconda by Continuum Analytics](https://store.continuum.io/cshop/anaconda/)"
     ]
    },
    {
     "cell_type": "heading",
     "level": 1,
     "metadata": {
      "slideshow": {
       "slide_type": "slide"
      }
     },
     "source": [
      "Go learn"
     ]
    },
    {
     "cell_type": "markdown",
     "metadata": {
      "slideshow": {
       "slide_type": "fragment"
      }
     },
     "source": [
      "* This presentation: http://spkrbar.com/talk/46/\n",
      "* [Gallery](https://github.com/ipython/ipython/wiki/A-gallery-of-interesting-IPython-Notebooks)\n",
      "* [Videos](http://pyvideo.org/search?models=videos.video&q=ipython)\n",
      "* [IPython In Depth](https://github.com/ipython/ipython-in-depth)\n",
      "* don't forget `%quickref`, `%lsmagic`\n",
      "* catherine.devlin@gmail.com for questions"
     ]
    },
    {
     "cell_type": "code",
     "collapsed": false,
     "input": [],
     "language": "python",
     "metadata": {},
     "outputs": []
    }
   ],
   "metadata": {}
  }
 ]
}